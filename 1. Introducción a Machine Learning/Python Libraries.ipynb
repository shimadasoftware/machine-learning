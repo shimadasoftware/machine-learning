{
 "cells": [
  {
   "cell_type": "markdown",
   "id": "534f99a5",
   "metadata": {},
   "source": [
    "# Machine Leaning\n",
    "## Python Libraries\n",
    "\n",
    "### Juana Valentina Mendoza Santamaría \n",
    "#### juana.mendoza@usantoto.edu.co\n",
    "#### 2021 "
   ]
  },
  {
   "cell_type": "markdown",
   "id": "c33c6bd5",
   "metadata": {},
   "source": [
    "### Notebook contents:\n",
    "\n",
    "<ol>\n",
    "  <li>NumPy Library</li>\n",
    "  <li>Pandas Library</li>\n",
    "</ol>"
   ]
  },
  {
   "cell_type": "markdown",
   "id": "3fc33c45",
   "metadata": {},
   "source": [
    "## NumPy\n",
    "\n",
    "Create an array and matrix."
   ]
  },
  {
   "cell_type": "code",
   "execution_count": 1,
   "id": "5916b19b",
   "metadata": {},
   "outputs": [
    {
     "name": "stdout",
     "output_type": "stream",
     "text": [
      "a: [1 2 3]\n",
      "b:\n",
      "[[1 2 3]\n",
      " [4 5 6]]\n"
     ]
    }
   ],
   "source": [
    "import numpy as np\n",
    "\n",
    "a = np.array([1, 2, 3])\n",
    "print('a:', a)\n",
    "b = np.array([(1, 2, 3), (4, 5, 6)])\n",
    "print('b:')\n",
    "print(b)"
   ]
  },
  {
   "cell_type": "markdown",
   "id": "bf7983f1",
   "metadata": {},
   "source": [
    "Fill matrix with number 1."
   ]
  },
  {
   "cell_type": "code",
   "execution_count": 2,
   "id": "f97b7fef",
   "metadata": {},
   "outputs": [
    {
     "name": "stdout",
     "output_type": "stream",
     "text": [
      "[[1. 1. 1. 1. 1.]\n",
      " [1. 1. 1. 1. 1.]\n",
      " [1. 1. 1. 1. 1.]]\n"
     ]
    }
   ],
   "source": [
    "# create matrix 3 rows x 5 columns.\n",
    "\n",
    "matrix1 = np.ones((3, 5))\n",
    "print(matrix1)"
   ]
  },
  {
   "cell_type": "markdown",
   "id": "60d15fb2",
   "metadata": {},
   "source": [
    "Fill matrix with number 0."
   ]
  },
  {
   "cell_type": "code",
   "execution_count": 3,
   "id": "3c5fbef0",
   "metadata": {},
   "outputs": [
    {
     "name": "stdout",
     "output_type": "stream",
     "text": [
      "[[0. 0. 0. 0. 0.]\n",
      " [0. 0. 0. 0. 0.]\n",
      " [0. 0. 0. 0. 0.]]\n"
     ]
    }
   ],
   "source": [
    "# create matrix 3 rows x 5 columns.\n",
    "\n",
    "matrix1 = np.zeros((3, 5))\n",
    "print(matrix1)"
   ]
  },
  {
   "cell_type": "markdown",
   "id": "dc582db8",
   "metadata": {},
   "source": [
    "Fill matrix with a specific number."
   ]
  },
  {
   "cell_type": "code",
   "execution_count": 4,
   "id": "435c9fe6",
   "metadata": {},
   "outputs": [
    {
     "name": "stdout",
     "output_type": "stream",
     "text": [
      "[[5 5 5 5 5]\n",
      " [5 5 5 5 5]\n",
      " [5 5 5 5 5]]\n"
     ]
    }
   ],
   "source": [
    "# create matrix 3 rows x 5 columns.\n",
    "\n",
    "matrix1 = np.full((3, 5), 5)\n",
    "print(matrix1)"
   ]
  },
  {
   "cell_type": "markdown",
   "id": "ba4d7dfe",
   "metadata": {},
   "source": [
    "Fill matrix with random numbers."
   ]
  },
  {
   "cell_type": "code",
   "execution_count": 5,
   "id": "d743e255",
   "metadata": {},
   "outputs": [
    {
     "name": "stdout",
     "output_type": "stream",
     "text": [
      "[[0.48951843 0.87013511 0.77164977 0.92036184 0.11737116]\n",
      " [0.54577537 0.53266412 0.2342575  0.71680597 0.02414917]\n",
      " [0.72415362 0.67970192 0.22618212 0.65891515 0.61671401]]\n"
     ]
    }
   ],
   "source": [
    "# create matrix 3 rows x 5 columns. \n",
    "\n",
    "matrix1 = np.random.random((3, 5))\n",
    "print(matrix1)"
   ]
  },
  {
   "cell_type": "markdown",
   "id": "76603cf7",
   "metadata": {},
   "source": [
    "Create an array that starts at 0 and ends at 40 and separate each value by 10."
   ]
  },
  {
   "cell_type": "code",
   "execution_count": 6,
   "id": "1484f227",
   "metadata": {},
   "outputs": [
    {
     "name": "stdout",
     "output_type": "stream",
     "text": [
      "[ 0 10 20 30 40]\n"
     ]
    }
   ],
   "source": [
    "matrix1 = np.arange(0, 50, 10)\n",
    "print(matrix1)"
   ]
  },
  {
   "cell_type": "markdown",
   "id": "87cec27d",
   "metadata": {},
   "source": [
    "Create an array of 10 values that starts at 0 and ends at 50."
   ]
  },
  {
   "cell_type": "code",
   "execution_count": 7,
   "id": "2b162791",
   "metadata": {},
   "outputs": [
    {
     "name": "stdout",
     "output_type": "stream",
     "text": [
      "[ 0.          5.55555556 11.11111111 16.66666667 22.22222222 27.77777778\n",
      " 33.33333333 38.88888889 44.44444444 50.        ]\n"
     ]
    }
   ],
   "source": [
    "matrix1 = np.linspace(0, 50, 10)\n",
    "print(matrix1)"
   ]
  },
  {
   "cell_type": "markdown",
   "id": "4e7372a9",
   "metadata": {},
   "source": [
    "Create an identity matrix."
   ]
  },
  {
   "cell_type": "code",
   "execution_count": 8,
   "id": "40d3e854",
   "metadata": {},
   "outputs": [
    {
     "name": "stdout",
     "output_type": "stream",
     "text": [
      "[[1. 0. 0. 0.]\n",
      " [0. 1. 0. 0.]\n",
      " [0. 0. 1. 0.]\n",
      " [0. 0. 0. 1.]]\n"
     ]
    }
   ],
   "source": [
    "matrix1 = np.eye(4, 4)\n",
    "print(matrix1)"
   ]
  },
  {
   "cell_type": "code",
   "execution_count": 9,
   "id": "edc59469",
   "metadata": {},
   "outputs": [
    {
     "name": "stdout",
     "output_type": "stream",
     "text": [
      "Number of array dimensions: 2\n",
      "Type: int64\n",
      "Number of elements in the array: 6\n",
      "Shape of an array. (row, col): (2, 3)\n"
     ]
    }
   ],
   "source": [
    "b = np.array([(1, 2, 3), (4, 5, 6)])\n",
    "print(f'Number of array dimensions: {b.ndim}')\n",
    "print(f'Type: {b.dtype}')\n",
    "print(f'Number of elements in the array: {b.size}')\n",
    "print(f'Shape of an array. (row, col): {b.shape}')"
   ]
  },
  {
   "cell_type": "markdown",
   "id": "9a769277",
   "metadata": {},
   "source": [
    "Reshape the matrix."
   ]
  },
  {
   "cell_type": "code",
   "execution_count": 10,
   "id": "4c0c3e46",
   "metadata": {},
   "outputs": [
    {
     "name": "stdout",
     "output_type": "stream",
     "text": [
      "Matrix: \n",
      " [[1 2 3]\n",
      " [4 5 6]]\n",
      "Matrix: \n",
      " [[1 2]\n",
      " [3 4]\n",
      " [5 6]]\n"
     ]
    }
   ],
   "source": [
    "b = np.array([(1, 2, 3), (4, 5, 6)])\n",
    "print(f'Matrix: \\n {b}')\n",
    "\n",
    "a = b.reshape(3, 2)\n",
    "print(f'Matrix: \\n {a}')"
   ]
  },
  {
   "cell_type": "markdown",
   "id": "d428f223",
   "metadata": {},
   "source": [
    "Given the following array, how to print all the elements of the\n",
    "first row?"
   ]
  },
  {
   "cell_type": "code",
   "execution_count": 11,
   "id": "fe5c5901",
   "metadata": {},
   "outputs": [
    {
     "name": "stdout",
     "output_type": "stream",
     "text": [
      "Matrix: \n",
      " [[ 1  2  3  4  5  6]\n",
      " [ 7  8  9 10 11 12]]\n"
     ]
    }
   ],
   "source": [
    "matrix1 = np.array([(1, 2, 3, 4, 5, 6), (7, 8, 9, 10, 11, 12)])\n",
    "print(f'Matrix: \\n {matrix1}')"
   ]
  },
  {
   "cell_type": "code",
   "execution_count": 12,
   "id": "9dab32b1",
   "metadata": {},
   "outputs": [
    {
     "name": "stdout",
     "output_type": "stream",
     "text": [
      "First element in the matrix: \n",
      " [1 2 3 4 5 6]\n",
      "First element in the matrix: \n",
      " [1 2 3 4 5 6]\n"
     ]
    }
   ],
   "source": [
    "print(f'First element in the matrix: \\n {matrix1[0]}')\n",
    "print(f'First element in the matrix: \\n {matrix1[0, :]}')"
   ]
  },
  {
   "cell_type": "code",
   "execution_count": 13,
   "id": "076abcdb",
   "metadata": {},
   "outputs": [
    {
     "name": "stdout",
     "output_type": "stream",
     "text": [
      "Minimun element: 1\n",
      "Maximun element: 12\n",
      "Add all elements: 78\n",
      "Add lists by position: [ 8 10 12 14 16 18]\n",
      "Add each list separately: [21 57]\n"
     ]
    }
   ],
   "source": [
    "matrix1 = np.array([(1, 2, 3, 4, 5, 6), (7, 8, 9, 10, 11, 12)])\n",
    "print(f'Minimun element: {matrix1.min()}')\n",
    "print(f'Maximun element: {matrix1.max()}')\n",
    "print(f'Add all elements: {matrix1.sum()}')\n",
    "print(f'Add lists by position: {matrix1.sum(0)}')\n",
    "print(f'Add each list separately: {matrix1.sum(1)}')"
   ]
  },
  {
   "cell_type": "code",
   "execution_count": 14,
   "id": "d3f970fa",
   "metadata": {},
   "outputs": [
    {
     "name": "stdout",
     "output_type": "stream",
     "text": [
      "Standard deviation: 3.452052529534663\n"
     ]
    }
   ],
   "source": [
    "matrix1 = np.array([(1, 2, 3, 4, 5, 6), (7, 8, 9, 10, 11, 12)])\n",
    "print(f'Standard deviation: {np.std(matrix1)}')"
   ]
  },
  {
   "cell_type": "code",
   "execution_count": 15,
   "id": "d7ff2d1f",
   "metadata": {},
   "outputs": [
    {
     "name": "stdout",
     "output_type": "stream",
     "text": [
      "Standard deviation: 3.452052529534663\n"
     ]
    }
   ],
   "source": [
    "matrix1 = np.array([1, 2, 3, 4, 5, 6, 7, 8, 9, 10, 11, 12])\n",
    "print(f'Standard deviation: {np.std(matrix1)}')"
   ]
  },
  {
   "cell_type": "code",
   "execution_count": 16,
   "id": "25ae3e0f",
   "metadata": {},
   "outputs": [
    {
     "name": "stdout",
     "output_type": "stream",
     "text": [
      "a: \n",
      " [[1 2]\n",
      " [3 4]] \n",
      "\n",
      "b: \n",
      " [[5 6]\n",
      " [7 8]] \n",
      "\n",
      "a + b: \n",
      " [[ 6  8]\n",
      " [10 12]] \n",
      "\n",
      "a - b: \n",
      " [[-4 -4]\n",
      " [-4 -4]] \n",
      "\n",
      "a * b: \n",
      " [[ 5 12]\n",
      " [21 32]] \n",
      "\n"
     ]
    }
   ],
   "source": [
    "a = np.array(((1, 2), (3, 4)))\n",
    "b = np.array(((5, 6), (7, 8)))\n",
    "\n",
    "print(f'a: \\n {a} \\n')\n",
    "print(f'b: \\n {b} \\n')\n",
    "print(f'a + b: \\n {a + b} \\n')\n",
    "print(f'a - b: \\n {a - b} \\n')\n",
    "print(f'a * b: \\n {a * b} \\n')"
   ]
  },
  {
   "cell_type": "code",
   "execution_count": 17,
   "id": "3a84e77b",
   "metadata": {},
   "outputs": [
    {
     "name": "stdout",
     "output_type": "stream",
     "text": [
      "a.dot(b): \n",
      " [[19 22]\n",
      " [43 50]] \n",
      "\n",
      "b.dot(a): \n",
      " [[23 34]\n",
      " [31 46]]\n"
     ]
    }
   ],
   "source": [
    "print(f'a.dot(b): \\n {a.dot(b)} \\n')\n",
    "print(f'b.dot(a): \\n {b.dot(a)}')"
   ]
  },
  {
   "cell_type": "markdown",
   "id": "6f23bdc5",
   "metadata": {},
   "source": [
    "## Pandas\n"
   ]
  },
  {
   "cell_type": "code",
   "execution_count": 18,
   "id": "7f3f3c23",
   "metadata": {},
   "outputs": [
    {
     "name": "stdout",
     "output_type": "stream",
     "text": [
      "          0      1    2\n",
      "0             Name  Age\n",
      "1  Student1   Anna   12\n",
      "2  Student2  Marry    9\n"
     ]
    }
   ],
   "source": [
    "import pandas as pd\n",
    "\n",
    "data = np.array([\n",
    "    [\"\", \"Name\", \"Age\"], \n",
    "    [\"Student1\", \"Anna\", 12],\n",
    "    [\"Student2\", \"Marry\", 9]\n",
    "])\n",
    "\n",
    "df = pd.DataFrame(data)\n",
    "print(df)"
   ]
  },
  {
   "cell_type": "code",
   "execution_count": 25,
   "id": "55ddf268",
   "metadata": {},
   "outputs": [
    {
     "name": "stdout",
     "output_type": "stream",
     "text": [
      "           Name Age\n",
      "Student1   Anna  12\n",
      "Student2  Marry   9\n"
     ]
    }
   ],
   "source": [
    "print(pd.DataFrame(\n",
    "    data = data[1:,1:],\n",
    "    index = data[1:,0],\n",
    "    columns = data[0,1:]\n",
    "))"
   ]
  },
  {
   "cell_type": "code",
   "execution_count": 26,
   "id": "6f2bbbfd",
   "metadata": {},
   "outputs": [
    {
     "name": "stdout",
     "output_type": "stream",
     "text": [
      "Shape (3, 3)\n",
      "Stats: \n",
      "         0     1    2\n",
      "count   3     3    3\n",
      "unique  3     3    3\n",
      "top        Name  Age\n",
      "freq    1     1    1\n"
     ]
    }
   ],
   "source": [
    "print(\"Shape\", df.shape)\n",
    "print(\"Stats: \\n\", df.describe())"
   ]
  },
  {
   "cell_type": "code",
   "execution_count": 27,
   "id": "66db1880",
   "metadata": {},
   "outputs": [
    {
     "name": "stdout",
     "output_type": "stream",
     "text": [
      "   0  1  2\n",
      "0  1  2  3\n",
      "1  4  5  6\n",
      "2  7  8  9\n",
      "Stats: \n",
      "          0    1    2\n",
      "count  3.0  3.0  3.0\n",
      "mean   4.0  5.0  6.0\n",
      "std    3.0  3.0  3.0\n",
      "min    1.0  2.0  3.0\n",
      "25%    2.5  3.5  4.5\n",
      "50%    4.0  5.0  6.0\n",
      "75%    5.5  6.5  7.5\n",
      "max    7.0  8.0  9.0\n",
      "Mean 0    4.0\n",
      "1    5.0\n",
      "2    6.0\n",
      "dtype: float64\n"
     ]
    }
   ],
   "source": [
    "data = np.array([\n",
    "    [1, 2, 3], \n",
    "    [4, 5, 6],\n",
    "    [7, 8, 9]\n",
    "])\n",
    "\n",
    "df = pd.DataFrame(data)\n",
    "\n",
    "print(df)\n",
    "print(\"Stats: \\n\", df.describe())\n",
    "print(\"Mean\", df.mean())"
   ]
  },
  {
   "cell_type": "code",
   "execution_count": null,
   "id": "2d6a53a9",
   "metadata": {},
   "outputs": [],
   "source": []
  }
 ],
 "metadata": {
  "kernelspec": {
   "display_name": "Python 3 (ipykernel)",
   "language": "python",
   "name": "python3"
  },
  "language_info": {
   "codemirror_mode": {
    "name": "ipython",
    "version": 3
   },
   "file_extension": ".py",
   "mimetype": "text/x-python",
   "name": "python",
   "nbconvert_exporter": "python",
   "pygments_lexer": "ipython3",
   "version": "3.9.12"
  }
 },
 "nbformat": 4,
 "nbformat_minor": 5
}
