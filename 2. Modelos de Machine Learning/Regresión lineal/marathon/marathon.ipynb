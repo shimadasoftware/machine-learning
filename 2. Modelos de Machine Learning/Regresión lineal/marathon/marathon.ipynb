{
 "cells": [
  {
   "cell_type": "markdown",
   "id": "3e12c06a",
   "metadata": {},
   "source": [
    "# Linear Regression\n",
    "\n",
    "## Dataset Marathon time Predictions\n",
    "\n",
    "### Created in 2021\n",
    "### @author: juana.mendoz4@gmail.com"
   ]
  },
  {
   "cell_type": "markdown",
   "id": "42dd9f5f",
   "metadata": {},
   "source": [
    "### Dataset information:\n",
    "    \n",
    "url: https://www.kaggle.com/datasets/girardi69/marathon-time-predictions/\n",
    "\n",
    "\n",
    "#### Context:\n",
    "\n",
    "Every Marathoner has a time goal in mind, and this is the result of all the training done in months of exercises. Long runs, Strides, Kilometers and phisical exercise, all add improvement to the result. Marathon time prediction is an art, generally guided by expert physiologists that prescribe the weekly exercises and the milestones to the marathon.\n",
    "Unfortunately, Runners have a lot of distractions while preparing the marathon, work, family, illnes, and therefore each one of us arrives to the marathon with his own story.\n",
    "The \"simple\" approach is to look at data after the competition, the Leaderboard.\n",
    "\n",
    "But what if we could link the Marathon result to the training history of the Athlete? Could we find that \"non orthodox\" training plans give good results?\n",
    "\n",
    "- id:\n",
    "simple counter\n",
    "\n",
    "\n",
    "- Marathon:\n",
    "the Marathon name where the data were extracted. I use the data coming out from Strava \"Side by side comparison\" and the data coming from the final marathon result\n",
    "\n",
    "\n",
    "- Name:\n",
    "The athlete's name, still some problems with UTF-8, I'll fix that soon\n",
    "\n",
    "\n",
    "- Category:\n",
    "the sex and age group of a runner\n",
    "\n",
    "    - MAM Male Athletes under 40 years\n",
    "    - WAM Women under 40 Years\n",
    "    - M40 Male Athletes between 40 and 45 years\n",
    "\n",
    "\n",
    "- km4week\n",
    "This is the total number of kilometers run in the last 4 weeks before the marathon, marathon included. If, for example, the km4week is 100, the athlete has run 400 km in the four weeks before the marathon\n",
    "\n",
    "\n",
    "- sp4week\n",
    "This is the average speed of the athlete in the last 4 training weeks. The average counts all the kilometers done, included the slow kilometers done before and after the training. A typic running session can be of 2km of slow running, then 12-14km of fast running, and finally other 2km of slow running. The average of the speed is this number, and with time this is one of the numbers that has to be refined\n",
    "\n",
    "\n",
    "- cross training:\n",
    "If the runner is also a cyclist, or a triathlete, does it counts? Use this parameter to see if the athlete is also a cross trainer in other disciplines\n",
    "\n",
    "\n",
    "- Wall21:\n",
    "In decimal. The tricky field. To acknowledge a good performance, as a marathoner, I have to run the first half marathon with the same split of the second half. If, for example, I run the first half marathon in 1h30m, I must finish the marathon in 3h (for doing a good job). If I finish in 3h20m, I started too fast and I hit \"the wall\". My training history is, therefore, less valid, since I was not estimating my result\n",
    "\n",
    "\n",
    "- Marathon time:\n",
    "In decimal. This is the final result. Based on my training history, I must predict my expected Marathon time\n",
    "\n",
    "\n",
    "- Category:\n",
    "This is an ancillary field. It gives some direction, so feel free to use or discard it. It groups in:\n",
    "\n",
    "    - A results under 3h\n",
    "    - B results between 3h and 3h20m\n",
    "    - C results between 3h20m and 3h40m\n",
    "    - D results between 3h40 and 4h"
   ]
  },
  {
   "cell_type": "markdown",
   "id": "b3b6018f",
   "metadata": {},
   "source": [
    "## Development"
   ]
  },
  {
   "cell_type": "markdown",
   "id": "d4ee78d2",
   "metadata": {},
   "source": [
    "### 1. Prepare data"
   ]
  },
  {
   "cell_type": "markdown",
   "id": "0204fa64",
   "metadata": {},
   "source": [
    "import libraries"
   ]
  },
  {
   "cell_type": "code",
   "execution_count": 1,
   "id": "638d15e7",
   "metadata": {},
   "outputs": [],
   "source": [
    "import pandas as pd\n",
    "import matplotlib.pyplot as plt\n",
    "import numpy as np\n",
    "import warnings\n",
    "warnings.simplefilter(\"ignore\")\n",
    "\n",
    "from sklearn.linear_model import LinearRegression\n",
    "from sklearn.metrics import mean_squared_error"
   ]
  },
  {
   "cell_type": "markdown",
   "id": "2f9a1f08",
   "metadata": {},
   "source": [
    "Load dataset."
   ]
  },
  {
   "cell_type": "code",
   "execution_count": 2,
   "id": "bb658515",
   "metadata": {},
   "outputs": [
    {
     "data": {
      "text/html": [
       "<div>\n",
       "<style scoped>\n",
       "    .dataframe tbody tr th:only-of-type {\n",
       "        vertical-align: middle;\n",
       "    }\n",
       "\n",
       "    .dataframe tbody tr th {\n",
       "        vertical-align: top;\n",
       "    }\n",
       "\n",
       "    .dataframe thead th {\n",
       "        text-align: right;\n",
       "    }\n",
       "</style>\n",
       "<table border=\"1\" class=\"dataframe\">\n",
       "  <thead>\n",
       "    <tr style=\"text-align: right;\">\n",
       "      <th></th>\n",
       "      <th>id</th>\n",
       "      <th>Marathon</th>\n",
       "      <th>Name</th>\n",
       "      <th>Category</th>\n",
       "      <th>km4week</th>\n",
       "      <th>sp4week</th>\n",
       "      <th>CrossTraining</th>\n",
       "      <th>Wall21</th>\n",
       "      <th>MarathonTime</th>\n",
       "      <th>CATEGORY</th>\n",
       "    </tr>\n",
       "  </thead>\n",
       "  <tbody>\n",
       "    <tr>\n",
       "      <th>0</th>\n",
       "      <td>1</td>\n",
       "      <td>Prague17</td>\n",
       "      <td>Blair MORGAN</td>\n",
       "      <td>MAM</td>\n",
       "      <td>132.8</td>\n",
       "      <td>14.434783</td>\n",
       "      <td>NaN</td>\n",
       "      <td>1.16</td>\n",
       "      <td>2.37</td>\n",
       "      <td>A</td>\n",
       "    </tr>\n",
       "    <tr>\n",
       "      <th>1</th>\n",
       "      <td>2</td>\n",
       "      <td>Prague17</td>\n",
       "      <td>Robert Heczko</td>\n",
       "      <td>MAM</td>\n",
       "      <td>68.6</td>\n",
       "      <td>13.674419</td>\n",
       "      <td>NaN</td>\n",
       "      <td>1.23</td>\n",
       "      <td>2.59</td>\n",
       "      <td>A</td>\n",
       "    </tr>\n",
       "    <tr>\n",
       "      <th>2</th>\n",
       "      <td>3</td>\n",
       "      <td>Prague17</td>\n",
       "      <td>Michon Jerome</td>\n",
       "      <td>MAM</td>\n",
       "      <td>82.7</td>\n",
       "      <td>13.520436</td>\n",
       "      <td>NaN</td>\n",
       "      <td>1.30</td>\n",
       "      <td>2.66</td>\n",
       "      <td>A</td>\n",
       "    </tr>\n",
       "    <tr>\n",
       "      <th>3</th>\n",
       "      <td>4</td>\n",
       "      <td>Prague17</td>\n",
       "      <td>Daniel Or lek</td>\n",
       "      <td>M45</td>\n",
       "      <td>137.5</td>\n",
       "      <td>12.258544</td>\n",
       "      <td>NaN</td>\n",
       "      <td>1.32</td>\n",
       "      <td>2.68</td>\n",
       "      <td>A</td>\n",
       "    </tr>\n",
       "    <tr>\n",
       "      <th>4</th>\n",
       "      <td>5</td>\n",
       "      <td>Prague17</td>\n",
       "      <td>Luk ? Mr zek</td>\n",
       "      <td>MAM</td>\n",
       "      <td>84.6</td>\n",
       "      <td>13.945055</td>\n",
       "      <td>NaN</td>\n",
       "      <td>1.36</td>\n",
       "      <td>2.74</td>\n",
       "      <td>A</td>\n",
       "    </tr>\n",
       "    <tr>\n",
       "      <th>...</th>\n",
       "      <td>...</td>\n",
       "      <td>...</td>\n",
       "      <td>...</td>\n",
       "      <td>...</td>\n",
       "      <td>...</td>\n",
       "      <td>...</td>\n",
       "      <td>...</td>\n",
       "      <td>...</td>\n",
       "      <td>...</td>\n",
       "      <td>...</td>\n",
       "    </tr>\n",
       "    <tr>\n",
       "      <th>82</th>\n",
       "      <td>83</td>\n",
       "      <td>Prague17</td>\n",
       "      <td>Stefano Vegliani</td>\n",
       "      <td>M55</td>\n",
       "      <td>50.0</td>\n",
       "      <td>10.830325</td>\n",
       "      <td>NaN</td>\n",
       "      <td>2.02</td>\n",
       "      <td>3.93</td>\n",
       "      <td>D</td>\n",
       "    </tr>\n",
       "    <tr>\n",
       "      <th>83</th>\n",
       "      <td>84</td>\n",
       "      <td>Prague17</td>\n",
       "      <td>Andrej Madliak</td>\n",
       "      <td>M40</td>\n",
       "      <td>33.6</td>\n",
       "      <td>10.130653</td>\n",
       "      <td>ciclista 3h</td>\n",
       "      <td>1.94</td>\n",
       "      <td>3.93</td>\n",
       "      <td>D</td>\n",
       "    </tr>\n",
       "    <tr>\n",
       "      <th>84</th>\n",
       "      <td>85</td>\n",
       "      <td>Prague17</td>\n",
       "      <td>Yoi Ohsako</td>\n",
       "      <td>M40</td>\n",
       "      <td>55.4</td>\n",
       "      <td>11.043189</td>\n",
       "      <td>NaN</td>\n",
       "      <td>1.94</td>\n",
       "      <td>3.94</td>\n",
       "      <td>D</td>\n",
       "    </tr>\n",
       "    <tr>\n",
       "      <th>85</th>\n",
       "      <td>86</td>\n",
       "      <td>Prague17</td>\n",
       "      <td>Simon Dunn</td>\n",
       "      <td>M45</td>\n",
       "      <td>33.2</td>\n",
       "      <td>11.066667</td>\n",
       "      <td>NaN</td>\n",
       "      <td>2.05</td>\n",
       "      <td>3.95</td>\n",
       "      <td>D</td>\n",
       "    </tr>\n",
       "    <tr>\n",
       "      <th>86</th>\n",
       "      <td>87</td>\n",
       "      <td>Prague17</td>\n",
       "      <td>Pavel ?imek</td>\n",
       "      <td>M40</td>\n",
       "      <td>17.9</td>\n",
       "      <td>10.848485</td>\n",
       "      <td>ciclista 5h</td>\n",
       "      <td>2.05</td>\n",
       "      <td>3.98</td>\n",
       "      <td>D</td>\n",
       "    </tr>\n",
       "  </tbody>\n",
       "</table>\n",
       "<p>87 rows × 10 columns</p>\n",
       "</div>"
      ],
      "text/plain": [
       "    id  Marathon              Name Category  km4week    sp4week CrossTraining  \\\n",
       "0    1  Prague17      Blair MORGAN      MAM    132.8  14.434783           NaN   \n",
       "1    2  Prague17     Robert Heczko      MAM     68.6  13.674419           NaN   \n",
       "2    3  Prague17     Michon Jerome      MAM     82.7  13.520436           NaN   \n",
       "3    4  Prague17     Daniel Or lek      M45    137.5  12.258544           NaN   \n",
       "4    5  Prague17      Luk ? Mr zek      MAM     84.6  13.945055           NaN   \n",
       "..  ..       ...               ...      ...      ...        ...           ...   \n",
       "82  83  Prague17  Stefano Vegliani      M55     50.0  10.830325           NaN   \n",
       "83  84  Prague17    Andrej Madliak      M40     33.6  10.130653   ciclista 3h   \n",
       "84  85  Prague17        Yoi Ohsako      M40     55.4  11.043189           NaN   \n",
       "85  86  Prague17        Simon Dunn      M45     33.2  11.066667           NaN   \n",
       "86  87  Prague17       Pavel ?imek      M40     17.9  10.848485   ciclista 5h   \n",
       "\n",
       "   Wall21  MarathonTime CATEGORY  \n",
       "0    1.16          2.37        A  \n",
       "1    1.23          2.59        A  \n",
       "2    1.30          2.66        A  \n",
       "3    1.32          2.68        A  \n",
       "4    1.36          2.74        A  \n",
       "..    ...           ...      ...  \n",
       "82   2.02          3.93        D  \n",
       "83   1.94          3.93        D  \n",
       "84   1.94          3.94        D  \n",
       "85   2.05          3.95        D  \n",
       "86   2.05          3.98        D  \n",
       "\n",
       "[87 rows x 10 columns]"
      ]
     },
     "execution_count": 2,
     "metadata": {},
     "output_type": "execute_result"
    }
   ],
   "source": [
    "df_marathon = pd.read_csv(\"MarathonData.csv\")\n",
    "df_marathon"
   ]
  },
  {
   "cell_type": "markdown",
   "id": "bd56a29a",
   "metadata": {},
   "source": [
    "Dataframe info."
   ]
  },
  {
   "cell_type": "code",
   "execution_count": 3,
   "id": "ad41dc90",
   "metadata": {},
   "outputs": [
    {
     "name": "stdout",
     "output_type": "stream",
     "text": [
      "<class 'pandas.core.frame.DataFrame'>\n",
      "RangeIndex: 87 entries, 0 to 86\n",
      "Data columns (total 10 columns):\n",
      " #   Column         Non-Null Count  Dtype  \n",
      "---  ------         --------------  -----  \n",
      " 0   id             87 non-null     int64  \n",
      " 1   Marathon       87 non-null     object \n",
      " 2   Name           87 non-null     object \n",
      " 3   Category       81 non-null     object \n",
      " 4   km4week        87 non-null     float64\n",
      " 5   sp4week        87 non-null     float64\n",
      " 6   CrossTraining  13 non-null     object \n",
      " 7   Wall21         87 non-null     object \n",
      " 8   MarathonTime   87 non-null     float64\n",
      " 9   CATEGORY       87 non-null     object \n",
      "dtypes: float64(3), int64(1), object(6)\n",
      "memory usage: 6.9+ KB\n"
     ]
    }
   ],
   "source": [
    "df_marathon.info()"
   ]
  },
  {
   "cell_type": "markdown",
   "id": "9593df07",
   "metadata": {},
   "source": [
    "Convert Wall21 to int."
   ]
  },
  {
   "cell_type": "code",
   "execution_count": 4,
   "id": "ad46f24b",
   "metadata": {},
   "outputs": [],
   "source": [
    "df_marathon.Wall21 = pd.to_numeric(df_marathon.Wall21, errors = 'coerce')"
   ]
  },
  {
   "cell_type": "markdown",
   "id": "b3fd097a",
   "metadata": {},
   "source": [
    "Describe int values in the dataframe."
   ]
  },
  {
   "cell_type": "code",
   "execution_count": 5,
   "id": "8c8ce098",
   "metadata": {},
   "outputs": [
    {
     "data": {
      "text/html": [
       "<div>\n",
       "<style scoped>\n",
       "    .dataframe tbody tr th:only-of-type {\n",
       "        vertical-align: middle;\n",
       "    }\n",
       "\n",
       "    .dataframe tbody tr th {\n",
       "        vertical-align: top;\n",
       "    }\n",
       "\n",
       "    .dataframe thead th {\n",
       "        text-align: right;\n",
       "    }\n",
       "</style>\n",
       "<table border=\"1\" class=\"dataframe\">\n",
       "  <thead>\n",
       "    <tr style=\"text-align: right;\">\n",
       "      <th></th>\n",
       "      <th>id</th>\n",
       "      <th>km4week</th>\n",
       "      <th>sp4week</th>\n",
       "      <th>Wall21</th>\n",
       "      <th>MarathonTime</th>\n",
       "    </tr>\n",
       "  </thead>\n",
       "  <tbody>\n",
       "    <tr>\n",
       "      <th>count</th>\n",
       "      <td>87.000000</td>\n",
       "      <td>87.000000</td>\n",
       "      <td>87.000000</td>\n",
       "      <td>81.000000</td>\n",
       "      <td>87.000000</td>\n",
       "    </tr>\n",
       "    <tr>\n",
       "      <th>mean</th>\n",
       "      <td>44.000000</td>\n",
       "      <td>62.347126</td>\n",
       "      <td>139.840706</td>\n",
       "      <td>1.630617</td>\n",
       "      <td>3.319080</td>\n",
       "    </tr>\n",
       "    <tr>\n",
       "      <th>std</th>\n",
       "      <td>25.258662</td>\n",
       "      <td>26.956019</td>\n",
       "      <td>1191.427864</td>\n",
       "      <td>0.210490</td>\n",
       "      <td>0.376923</td>\n",
       "    </tr>\n",
       "    <tr>\n",
       "      <th>min</th>\n",
       "      <td>1.000000</td>\n",
       "      <td>17.900000</td>\n",
       "      <td>8.031414</td>\n",
       "      <td>1.160000</td>\n",
       "      <td>2.370000</td>\n",
       "    </tr>\n",
       "    <tr>\n",
       "      <th>25%</th>\n",
       "      <td>22.500000</td>\n",
       "      <td>44.200000</td>\n",
       "      <td>11.498168</td>\n",
       "      <td>1.450000</td>\n",
       "      <td>3.045000</td>\n",
       "    </tr>\n",
       "    <tr>\n",
       "      <th>50%</th>\n",
       "      <td>44.000000</td>\n",
       "      <td>58.800000</td>\n",
       "      <td>12.163424</td>\n",
       "      <td>1.620000</td>\n",
       "      <td>3.320000</td>\n",
       "    </tr>\n",
       "    <tr>\n",
       "      <th>75%</th>\n",
       "      <td>65.500000</td>\n",
       "      <td>77.500000</td>\n",
       "      <td>12.854036</td>\n",
       "      <td>1.760000</td>\n",
       "      <td>3.605000</td>\n",
       "    </tr>\n",
       "    <tr>\n",
       "      <th>max</th>\n",
       "      <td>87.000000</td>\n",
       "      <td>137.500000</td>\n",
       "      <td>11125.000000</td>\n",
       "      <td>2.050000</td>\n",
       "      <td>3.980000</td>\n",
       "    </tr>\n",
       "  </tbody>\n",
       "</table>\n",
       "</div>"
      ],
      "text/plain": [
       "              id     km4week       sp4week     Wall21  MarathonTime\n",
       "count  87.000000   87.000000     87.000000  81.000000     87.000000\n",
       "mean   44.000000   62.347126    139.840706   1.630617      3.319080\n",
       "std    25.258662   26.956019   1191.427864   0.210490      0.376923\n",
       "min     1.000000   17.900000      8.031414   1.160000      2.370000\n",
       "25%    22.500000   44.200000     11.498168   1.450000      3.045000\n",
       "50%    44.000000   58.800000     12.163424   1.620000      3.320000\n",
       "75%    65.500000   77.500000     12.854036   1.760000      3.605000\n",
       "max    87.000000  137.500000  11125.000000   2.050000      3.980000"
      ]
     },
     "execution_count": 5,
     "metadata": {},
     "output_type": "execute_result"
    }
   ],
   "source": [
    "df_marathon.describe()"
   ]
  },
  {
   "cell_type": "markdown",
   "id": "01c60729",
   "metadata": {},
   "source": [
    "Plot histogram."
   ]
  },
  {
   "cell_type": "code",
   "execution_count": 6,
   "id": "52c4498b",
   "metadata": {},
   "outputs": [
    {
     "data": {
      "text/plain": [
       "array([[<AxesSubplot:title={'center':'id'}>,\n",
       "        <AxesSubplot:title={'center':'km4week'}>],\n",
       "       [<AxesSubplot:title={'center':'sp4week'}>,\n",
       "        <AxesSubplot:title={'center':'Wall21'}>],\n",
       "       [<AxesSubplot:title={'center':'MarathonTime'}>, <AxesSubplot:>]],\n",
       "      dtype=object)"
      ]
     },
     "execution_count": 6,
     "metadata": {},
     "output_type": "execute_result"
    },
    {
     "data": {
      "image/png": "[encoded data removed]",
      "text/plain": [
       "<Figure size 720x720 with 6 Axes>"
      ]
     },
     "metadata": {
      "needs_background": "light"
     },
     "output_type": "display_data"
    }
   ],
   "source": [
    "df_marathon.hist(figsize=(10,10))"
   ]
  },
  {
   "cell_type": "markdown",
   "id": "90c055b1",
   "metadata": {},
   "source": [
    "Select the most relevant fields from the dataframe. To do this, the columns are eliminated: id, Marathon, name.\n",
    "\n",
    "Analysis:\n",
    "- id: The athlete's ID does not influence their performance.\n",
    "- name: The athlete's name does not influence their performance.\n",
    "- Marathon: The name of the marathon does not influence the athlete's performance.\n",
    "- CATEGORY: We already have a field that determines the time of each runner, this field is not necessary."
   ]
  },
  {
   "cell_type": "code",
   "execution_count": 7,
   "id": "b8f922d3",
   "metadata": {},
   "outputs": [
    {
     "data": {
      "text/html": [
       "<div>\n",
       "<style scoped>\n",
       "    .dataframe tbody tr th:only-of-type {\n",
       "        vertical-align: middle;\n",
       "    }\n",
       "\n",
       "    .dataframe tbody tr th {\n",
       "        vertical-align: top;\n",
       "    }\n",
       "\n",
       "    .dataframe thead th {\n",
       "        text-align: right;\n",
       "    }\n",
       "</style>\n",
       "<table border=\"1\" class=\"dataframe\">\n",
       "  <thead>\n",
       "    <tr style=\"text-align: right;\">\n",
       "      <th></th>\n",
       "      <th>Category</th>\n",
       "      <th>km4week</th>\n",
       "      <th>sp4week</th>\n",
       "      <th>CrossTraining</th>\n",
       "      <th>Wall21</th>\n",
       "      <th>MarathonTime</th>\n",
       "    </tr>\n",
       "  </thead>\n",
       "  <tbody>\n",
       "    <tr>\n",
       "      <th>0</th>\n",
       "      <td>MAM</td>\n",
       "      <td>132.8</td>\n",
       "      <td>14.434783</td>\n",
       "      <td>NaN</td>\n",
       "      <td>1.16</td>\n",
       "      <td>2.37</td>\n",
       "    </tr>\n",
       "    <tr>\n",
       "      <th>1</th>\n",
       "      <td>MAM</td>\n",
       "      <td>68.6</td>\n",
       "      <td>13.674419</td>\n",
       "      <td>NaN</td>\n",
       "      <td>1.23</td>\n",
       "      <td>2.59</td>\n",
       "    </tr>\n",
       "    <tr>\n",
       "      <th>2</th>\n",
       "      <td>MAM</td>\n",
       "      <td>82.7</td>\n",
       "      <td>13.520436</td>\n",
       "      <td>NaN</td>\n",
       "      <td>1.30</td>\n",
       "      <td>2.66</td>\n",
       "    </tr>\n",
       "    <tr>\n",
       "      <th>3</th>\n",
       "      <td>M45</td>\n",
       "      <td>137.5</td>\n",
       "      <td>12.258544</td>\n",
       "      <td>NaN</td>\n",
       "      <td>1.32</td>\n",
       "      <td>2.68</td>\n",
       "    </tr>\n",
       "    <tr>\n",
       "      <th>4</th>\n",
       "      <td>MAM</td>\n",
       "      <td>84.6</td>\n",
       "      <td>13.945055</td>\n",
       "      <td>NaN</td>\n",
       "      <td>1.36</td>\n",
       "      <td>2.74</td>\n",
       "    </tr>\n",
       "    <tr>\n",
       "      <th>...</th>\n",
       "      <td>...</td>\n",
       "      <td>...</td>\n",
       "      <td>...</td>\n",
       "      <td>...</td>\n",
       "      <td>...</td>\n",
       "      <td>...</td>\n",
       "    </tr>\n",
       "    <tr>\n",
       "      <th>82</th>\n",
       "      <td>M55</td>\n",
       "      <td>50.0</td>\n",
       "      <td>10.830325</td>\n",
       "      <td>NaN</td>\n",
       "      <td>2.02</td>\n",
       "      <td>3.93</td>\n",
       "    </tr>\n",
       "    <tr>\n",
       "      <th>83</th>\n",
       "      <td>M40</td>\n",
       "      <td>33.6</td>\n",
       "      <td>10.130653</td>\n",
       "      <td>ciclista 3h</td>\n",
       "      <td>1.94</td>\n",
       "      <td>3.93</td>\n",
       "    </tr>\n",
       "    <tr>\n",
       "      <th>84</th>\n",
       "      <td>M40</td>\n",
       "      <td>55.4</td>\n",
       "      <td>11.043189</td>\n",
       "      <td>NaN</td>\n",
       "      <td>1.94</td>\n",
       "      <td>3.94</td>\n",
       "    </tr>\n",
       "    <tr>\n",
       "      <th>85</th>\n",
       "      <td>M45</td>\n",
       "      <td>33.2</td>\n",
       "      <td>11.066667</td>\n",
       "      <td>NaN</td>\n",
       "      <td>2.05</td>\n",
       "      <td>3.95</td>\n",
       "    </tr>\n",
       "    <tr>\n",
       "      <th>86</th>\n",
       "      <td>M40</td>\n",
       "      <td>17.9</td>\n",
       "      <td>10.848485</td>\n",
       "      <td>ciclista 5h</td>\n",
       "      <td>2.05</td>\n",
       "      <td>3.98</td>\n",
       "    </tr>\n",
       "  </tbody>\n",
       "</table>\n",
       "<p>87 rows × 6 columns</p>\n",
       "</div>"
      ],
      "text/plain": [
       "   Category  km4week    sp4week CrossTraining  Wall21  MarathonTime\n",
       "0       MAM    132.8  14.434783           NaN    1.16          2.37\n",
       "1       MAM     68.6  13.674419           NaN    1.23          2.59\n",
       "2       MAM     82.7  13.520436           NaN    1.30          2.66\n",
       "3       M45    137.5  12.258544           NaN    1.32          2.68\n",
       "4       MAM     84.6  13.945055           NaN    1.36          2.74\n",
       "..      ...      ...        ...           ...     ...           ...\n",
       "82      M55     50.0  10.830325           NaN    2.02          3.93\n",
       "83      M40     33.6  10.130653   ciclista 3h    1.94          3.93\n",
       "84      M40     55.4  11.043189           NaN    1.94          3.94\n",
       "85      M45     33.2  11.066667           NaN    2.05          3.95\n",
       "86      M40     17.9  10.848485   ciclista 5h    2.05          3.98\n",
       "\n",
       "[87 rows x 6 columns]"
      ]
     },
     "execution_count": 7,
     "metadata": {},
     "output_type": "execute_result"
    }
   ],
   "source": [
    "df_marathon = df_marathon.drop(columns = ['Name', 'id', 'Marathon', 'CATEGORY'])\n",
    "df_marathon"
   ]
  },
  {
   "cell_type": "markdown",
   "id": "5c092151",
   "metadata": {},
   "source": [
    "Verify null or empty data."
   ]
  },
  {
   "cell_type": "code",
   "execution_count": 8,
   "id": "dab4611b",
   "metadata": {},
   "outputs": [
    {
     "data": {
      "text/plain": [
       "Category          6\n",
       "km4week           0\n",
       "sp4week           0\n",
       "CrossTraining    74\n",
       "Wall21            6\n",
       "MarathonTime      0\n",
       "dtype: int64"
      ]
     },
     "execution_count": 8,
     "metadata": {},
     "output_type": "execute_result"
    }
   ],
   "source": [
    "df_marathon.isna().sum()"
   ]
  },
  {
   "cell_type": "code",
   "execution_count": 9,
   "id": "e8fd30df",
   "metadata": {},
   "outputs": [
    {
     "data": {
      "text/plain": [
       "Category          6\n",
       "km4week           0\n",
       "sp4week           0\n",
       "CrossTraining    74\n",
       "Wall21            6\n",
       "MarathonTime      0\n",
       "dtype: int64"
      ]
     },
     "execution_count": 9,
     "metadata": {},
     "output_type": "execute_result"
    }
   ],
   "source": [
    "df_marathon.isnull().sum()"
   ]
  },
  {
   "cell_type": "markdown",
   "id": "f22b3c7f",
   "metadata": {},
   "source": [
    "We must check if there is null data in the data set and make the decision whether to fill in the missing data or delete the entire record.\n",
    "\n",
    "Analysis:\n",
    "\n",
    "- Category has 87 data in total and of these records 6 are null, therefore, omitting the 6 records has no impact.\n",
    "\n",
    "- Wall21 has 87 data in total and of these records 6 are null, therefore, omitting the 6 records has no impact.\n",
    "\n",
    "- CrossTraining has 87 records in total and of these 74 are null, therefore, the 74 records cannot be dispensed with because it represents a large part. Therefore, it is decided to represent this null data as 0."
   ]
  },
  {
   "cell_type": "code",
   "execution_count": 10,
   "id": "b13a2dd8",
   "metadata": {},
   "outputs": [],
   "source": [
    "def convert_null_to_zero(column):\n",
    "    \"\"\"\n",
    "    Convert the dataframe register of a certain column that are null to zero.\n",
    "\n",
    "    Parameters\n",
    "    ----------\n",
    "    column: String\n",
    "        Dataframe column.\n",
    "\n",
    "    Returns\n",
    "    -------\n",
    "    None.\n",
    "\n",
    "    \"\"\"\n",
    "    try:\n",
    "        null_registers = df_marathon[column].isnull().any()\n",
    "        if null_registers:\n",
    "            df_marathon[column] = df_marathon[column].fillna(0)\n",
    "    except KeyError:\n",
    "        print(f'The column {column} does not exits in the DataFrame.')\n",
    "    except Exception as e:\n",
    "        print(f'There is an error: {str(e)}')"
   ]
  },
  {
   "cell_type": "markdown",
   "id": "46a26f78",
   "metadata": {},
   "source": [
    "CrossTraining column."
   ]
  },
  {
   "cell_type": "code",
   "execution_count": 11,
   "id": "f4d1c647",
   "metadata": {},
   "outputs": [
    {
     "data": {
      "text/plain": [
       "Category         6\n",
       "km4week          0\n",
       "sp4week          0\n",
       "CrossTraining    0\n",
       "Wall21           6\n",
       "MarathonTime     0\n",
       "dtype: int64"
      ]
     },
     "execution_count": 11,
     "metadata": {},
     "output_type": "execute_result"
    }
   ],
   "source": [
    "convert_null_to_zero('CrossTraining')\n",
    "df_marathon.isnull().sum()"
   ]
  },
  {
   "cell_type": "markdown",
   "id": "2af45ca3",
   "metadata": {},
   "source": [
    "Delete duplicate registers in Category and Wall21 columns."
   ]
  },
  {
   "cell_type": "code",
   "execution_count": 12,
   "id": "636de1d8",
   "metadata": {},
   "outputs": [
    {
     "data": {
      "text/plain": [
       "Category         0\n",
       "km4week          0\n",
       "sp4week          0\n",
       "CrossTraining    0\n",
       "Wall21           0\n",
       "MarathonTime     0\n",
       "dtype: int64"
      ]
     },
     "execution_count": 12,
     "metadata": {},
     "output_type": "execute_result"
    }
   ],
   "source": [
    "try:\n",
    "    df_marathon = df_marathon.dropna(how = 'any')\n",
    "except Exception as e:\n",
    "    print(f'There is an error: {str(e)}')\n",
    "df_marathon.isnull().sum()"
   ]
  },
  {
   "cell_type": "markdown",
   "id": "655952a2",
   "metadata": {},
   "source": [
    "The model requires that the data included be of numerical type, therefore, those that are not, must have a transformation. In our case there are two NON-numeric fields: Category and CrossTraining."
   ]
  },
  {
   "cell_type": "code",
   "execution_count": 13,
   "id": "ec406565",
   "metadata": {},
   "outputs": [
    {
     "name": "stdout",
     "output_type": "stream",
     "text": [
      "<class 'pandas.core.frame.DataFrame'>\n",
      "Int64Index: 81 entries, 0 to 86\n",
      "Data columns (total 6 columns):\n",
      " #   Column         Non-Null Count  Dtype  \n",
      "---  ------         --------------  -----  \n",
      " 0   Category       81 non-null     object \n",
      " 1   km4week        81 non-null     float64\n",
      " 2   sp4week        81 non-null     float64\n",
      " 3   CrossTraining  81 non-null     object \n",
      " 4   Wall21         81 non-null     float64\n",
      " 5   MarathonTime   81 non-null     float64\n",
      "dtypes: float64(4), object(2)\n",
      "memory usage: 4.4+ KB\n"
     ]
    }
   ],
   "source": [
    "df_marathon.info()"
   ]
  },
  {
   "cell_type": "markdown",
   "id": "54ab9dfc",
   "metadata": {},
   "source": [
    "First, you have to check how many different values have."
   ]
  },
  {
   "cell_type": "code",
   "execution_count": 14,
   "id": "e6dd3fa7",
   "metadata": {},
   "outputs": [
    {
     "data": {
      "text/plain": [
       "array(['MAM', 'M45', 'M40', 'M50', 'M55', 'WAM'], dtype=object)"
      ]
     },
     "execution_count": 14,
     "metadata": {},
     "output_type": "execute_result"
    }
   ],
   "source": [
    "df_marathon.Category.unique()"
   ]
  },
  {
   "cell_type": "code",
   "execution_count": 15,
   "id": "665c4390",
   "metadata": {},
   "outputs": [
    {
     "data": {
      "text/plain": [
       "array([0, 'ciclista 1h', 'ciclista 4h', 'ciclista 13h', 'ciclista 3h',\n",
       "       'ciclista 5h'], dtype=object)"
      ]
     },
     "execution_count": 15,
     "metadata": {},
     "output_type": "execute_result"
    }
   ],
   "source": [
    "df_marathon.CrossTraining.unique()"
   ]
  },
  {
   "cell_type": "markdown",
   "id": "2763b1ee",
   "metadata": {},
   "source": [
    "Then, assign a numerical value to each different category or value."
   ]
  },
  {
   "cell_type": "code",
   "execution_count": 16,
   "id": "8a2bc5fb",
   "metadata": {},
   "outputs": [],
   "source": [
    "new_values = { 'Category':\n",
    "              {\n",
    "                  'MAM' : 1,\n",
    "                  'M40' : 2,\n",
    "                  'M45' : 3,\n",
    "                  'M50' : 4,\n",
    "                  'M55' : 5,\n",
    "                  'WAM' : 6,\n",
    "              },\n",
    "            }\n",
    "\n",
    "df_marathon.replace(new_values, inplace = True)"
   ]
  },
  {
   "cell_type": "code",
   "execution_count": 17,
   "id": "bd3eb445",
   "metadata": {},
   "outputs": [
    {
     "data": {
      "text/plain": [
       "array([1, 3, 2, 4, 5, 6])"
      ]
     },
     "execution_count": 17,
     "metadata": {},
     "output_type": "execute_result"
    }
   ],
   "source": [
    "df_marathon.Category.unique()"
   ]
  },
  {
   "cell_type": "code",
   "execution_count": 18,
   "id": "acbca067",
   "metadata": {},
   "outputs": [],
   "source": [
    "new_values = { 'CrossTraining':\n",
    "              {\n",
    "                  'ciclista 1h' : 1,\n",
    "                  'ciclista 3h' : 2,\n",
    "                  'ciclista 4h' : 3,\n",
    "                  'ciclista 5h' : 4,\n",
    "                  'ciclista 13h': 5\n",
    "              },\n",
    "            }\n",
    "\n",
    "df_marathon.replace(new_values, inplace = True)"
   ]
  },
  {
   "cell_type": "code",
   "execution_count": 19,
   "id": "0e70ae15",
   "metadata": {},
   "outputs": [
    {
     "data": {
      "text/plain": [
       "array([0, 1, 3, 5, 2, 4])"
      ]
     },
     "execution_count": 19,
     "metadata": {},
     "output_type": "execute_result"
    }
   ],
   "source": [
    "df_marathon.CrossTraining.unique()"
   ]
  },
  {
   "cell_type": "markdown",
   "id": "6e943ea4",
   "metadata": {},
   "source": [
    "### 2. Train data"
   ]
  },
  {
   "cell_type": "markdown",
   "id": "9bd53290",
   "metadata": {},
   "source": [
    "In mathematical terms:\n",
    "\n",
    "The equation of the straight line is used to approximate the data.\n",
    "\n",
    "```math\n",
    "y = mx + b\n",
    "```\n",
    "Donde:\n",
    "  - y: dependent variable or variable to predict.\n",
    "  - x: independent variable or predictor variable.\n",
    "  - m: slope.\n",
    "  - b: intersection with the y axis."
   ]
  },
  {
   "cell_type": "markdown",
   "id": "6712636b",
   "metadata": {},
   "source": [
    "From the data, what is the dependent variable and the independent variables?\n",
    "\n",
    "Dependent variable or variable to predict: \n",
    "- MarathonTime\n",
    "\n",
    "Independents variable or predictor variables:\n",
    "\n",
    "- Category\n",
    "- km4week\n",
    "- sp4week\n",
    "- CrossTraining\n",
    "- Wall21  "
   ]
  },
  {
   "cell_type": "code",
   "execution_count": 20,
   "id": "68665b25",
   "metadata": {},
   "outputs": [
    {
     "name": "stdout",
     "output_type": "stream",
     "text": [
      "<class 'pandas.core.frame.DataFrame'>\n",
      "Int64Index: 81 entries, 0 to 86\n",
      "Data columns (total 6 columns):\n",
      " #   Column         Non-Null Count  Dtype  \n",
      "---  ------         --------------  -----  \n",
      " 0   Category       81 non-null     int64  \n",
      " 1   km4week        81 non-null     float64\n",
      " 2   sp4week        81 non-null     float64\n",
      " 3   CrossTraining  81 non-null     int64  \n",
      " 4   Wall21         81 non-null     float64\n",
      " 5   MarathonTime   81 non-null     float64\n",
      "dtypes: float64(4), int64(2)\n",
      "memory usage: 4.4 KB\n"
     ]
    }
   ],
   "source": [
    "df_marathon.info()"
   ]
  },
  {
   "cell_type": "markdown",
   "id": "0920d490",
   "metadata": {},
   "source": [
    "Plot correlation between variables."
   ]
  },
  {
   "cell_type": "code",
   "execution_count": 21,
   "id": "2a3916bf",
   "metadata": {},
   "outputs": [],
   "source": [
    "def plot_correlation(predict, predictor):\n",
    "    \"\"\"\n",
    "    Plot the correlation between the dependent and independent variable.\n",
    "    \n",
    "    Parameters\n",
    "    ----------\n",
    "    predict: String\n",
    "        Dataframe dependent variable.\n",
    "        \n",
    "    predictor: String\n",
    "        Dataframe independent variable.\n",
    "        \n",
    "    Returns\n",
    "    -------\n",
    "    None.\n",
    "\n",
    "    \"\"\"\n",
    "    plt.scatter(x = df_marathon[predictor], y = df_marathon[predict])\n",
    "    plt.title(f'{predictor} Vs {predict}')\n",
    "    plt.xlabel(f'{predictor}')\n",
    "    plt.ylabel(f'{predict}')\n",
    "    plt.show()"
   ]
  },
  {
   "cell_type": "markdown",
   "id": "90c0a585",
   "metadata": {},
   "source": [
    "MaratonTime vs sp4week"
   ]
  },
  {
   "cell_type": "code",
   "execution_count": 22,
   "id": "593413ee",
   "metadata": {},
   "outputs": [
    {
     "data": {
      "image/png": "[encoded data removed]",
      "text/plain": [
       "<Figure size 432x288 with 1 Axes>"
      ]
     },
     "metadata": {
      "needs_background": "light"
     },
     "output_type": "display_data"
    }
   ],
   "source": [
    "plot_correlation('MarathonTime', 'sp4week')"
   ]
  },
  {
   "cell_type": "markdown",
   "id": "e05f0a02",
   "metadata": {},
   "source": [
    "MaratonTime vs km4week"
   ]
  },
  {
   "cell_type": "code",
   "execution_count": 23,
   "id": "a7fc6b31",
   "metadata": {},
   "outputs": [
    {
     "data": {
      "image/png": "[encoded data removed]",
      "text/plain": [
       "<Figure size 432x288 with 1 Axes>"
      ]
     },
     "metadata": {
      "needs_background": "light"
     },
     "output_type": "display_data"
    }
   ],
   "source": [
    "plot_correlation('MarathonTime', 'km4week')"
   ]
  },
  {
   "cell_type": "markdown",
   "id": "c5a3df5f",
   "metadata": {},
   "source": [
    "MaratonTime vs Wall21"
   ]
  },
  {
   "cell_type": "code",
   "execution_count": 24,
   "id": "3e5ea6ae",
   "metadata": {},
   "outputs": [
    {
     "data": {
      "image/png": "[encoded data removed]",
      "text/plain": [
       "<Figure size 432x288 with 1 Axes>"
      ]
     },
     "metadata": {
      "needs_background": "light"
     },
     "output_type": "display_data"
    }
   ],
   "source": [
    "plot_correlation('MarathonTime', 'Wall21')"
   ]
  },
  {
   "cell_type": "markdown",
   "id": "e694ee07",
   "metadata": {},
   "source": [
    "MaratonTime vs Category"
   ]
  },
  {
   "cell_type": "code",
   "execution_count": 25,
   "id": "325867a9",
   "metadata": {},
   "outputs": [
    {
     "data": {
      "image/png": "[encoded data removed]",
      "text/plain": [
       "<Figure size 432x288 with 1 Axes>"
      ]
     },
     "metadata": {
      "needs_background": "light"
     },
     "output_type": "display_data"
    }
   ],
   "source": [
    "plot_correlation('MarathonTime', 'Category')"
   ]
  },
  {
   "cell_type": "markdown",
   "id": "1b6155cc",
   "metadata": {},
   "source": [
    "MaratonTime vs CrossTraining"
   ]
  },
  {
   "cell_type": "code",
   "execution_count": 26,
   "id": "045dcef1",
   "metadata": {},
   "outputs": [
    {
     "data": {
      "image/png": "[encoded data removed]",
      "text/plain": [
       "<Figure size 432x288 with 1 Axes>"
      ]
     },
     "metadata": {
      "needs_background": "light"
     },
     "output_type": "display_data"
    }
   ],
   "source": [
    "plot_correlation('MarathonTime', 'CrossTraining')"
   ]
  },
  {
   "cell_type": "markdown",
   "id": "06f8ad2a",
   "metadata": {},
   "source": [
    "Split the data set into 2: training and testing."
   ]
  },
  {
   "cell_type": "code",
   "execution_count": 27,
   "id": "0d3520ad",
   "metadata": {},
   "outputs": [
    {
     "data": {
      "text/plain": [
       "(81, 6)"
      ]
     },
     "execution_count": 27,
     "metadata": {},
     "output_type": "execute_result"
    }
   ],
   "source": [
    "df_marathon.shape"
   ]
  },
  {
   "cell_type": "markdown",
   "id": "95fd5e62",
   "metadata": {},
   "source": [
    "An important percentage is chosen to form the training data set (it can be 70% or 80%) and the rest will be part of the validation set.\n",
    "\n",
    "Total rows = 81\n",
    "Total cols = 6\n",
    "\n",
    "- Train data is 80%  \n",
    "\n",
    "\t81 x 80% = 64.8 -> 65\n",
    "\n",
    "\n",
    "- Test data is 20%\n",
    "\n",
    "\t81 x 20% = 16.2 -> 16"
   ]
  },
  {
   "cell_type": "markdown",
   "id": "22b772a3",
   "metadata": {},
   "source": [
    "In Pandas, the sample function is used to obtain a random sample of rows or columns from a DataFrame. In this case, 80% of the dataframe registers are randomly selected."
   ]
  },
  {
   "cell_type": "code",
   "execution_count": 28,
   "id": "95751b64",
   "metadata": {},
   "outputs": [
    {
     "data": {
      "text/plain": [
       "(65, 6)"
      ]
     },
     "execution_count": 28,
     "metadata": {},
     "output_type": "execute_result"
    }
   ],
   "source": [
    "train_data = df_marathon.sample(frac = 0.8, random_state = 0)\n",
    "train_data.shape"
   ]
  },
  {
   "cell_type": "code",
   "execution_count": 29,
   "id": "180cd572",
   "metadata": {},
   "outputs": [
    {
     "data": {
      "text/html": [
       "<div>\n",
       "<style scoped>\n",
       "    .dataframe tbody tr th:only-of-type {\n",
       "        vertical-align: middle;\n",
       "    }\n",
       "\n",
       "    .dataframe tbody tr th {\n",
       "        vertical-align: top;\n",
       "    }\n",
       "\n",
       "    .dataframe thead th {\n",
       "        text-align: right;\n",
       "    }\n",
       "</style>\n",
       "<table border=\"1\" class=\"dataframe\">\n",
       "  <thead>\n",
       "    <tr style=\"text-align: right;\">\n",
       "      <th></th>\n",
       "      <th>Category</th>\n",
       "      <th>km4week</th>\n",
       "      <th>sp4week</th>\n",
       "      <th>CrossTraining</th>\n",
       "      <th>Wall21</th>\n",
       "      <th>MarathonTime</th>\n",
       "    </tr>\n",
       "  </thead>\n",
       "  <tbody>\n",
       "    <tr>\n",
       "      <th>22</th>\n",
       "      <td>2</td>\n",
       "      <td>59.4</td>\n",
       "      <td>12.638298</td>\n",
       "      <td>0</td>\n",
       "      <td>1.50</td>\n",
       "      <td>3.05</td>\n",
       "    </tr>\n",
       "    <tr>\n",
       "      <th>28</th>\n",
       "      <td>3</td>\n",
       "      <td>51.6</td>\n",
       "      <td>13.008403</td>\n",
       "      <td>0</td>\n",
       "      <td>1.50</td>\n",
       "      <td>3.15</td>\n",
       "    </tr>\n",
       "    <tr>\n",
       "      <th>65</th>\n",
       "      <td>3</td>\n",
       "      <td>60.3</td>\n",
       "      <td>11.708738</td>\n",
       "      <td>0</td>\n",
       "      <td>1.88</td>\n",
       "      <td>3.62</td>\n",
       "    </tr>\n",
       "    <tr>\n",
       "      <th>13</th>\n",
       "      <td>2</td>\n",
       "      <td>84.4</td>\n",
       "      <td>13.836066</td>\n",
       "      <td>0</td>\n",
       "      <td>1.41</td>\n",
       "      <td>2.88</td>\n",
       "    </tr>\n",
       "    <tr>\n",
       "      <th>76</th>\n",
       "      <td>1</td>\n",
       "      <td>40.3</td>\n",
       "      <td>8.337931</td>\n",
       "      <td>4</td>\n",
       "      <td>1.94</td>\n",
       "      <td>3.80</td>\n",
       "    </tr>\n",
       "    <tr>\n",
       "      <th>...</th>\n",
       "      <td>...</td>\n",
       "      <td>...</td>\n",
       "      <td>...</td>\n",
       "      <td>...</td>\n",
       "      <td>...</td>\n",
       "      <td>...</td>\n",
       "    </tr>\n",
       "    <tr>\n",
       "      <th>66</th>\n",
       "      <td>1</td>\n",
       "      <td>48.5</td>\n",
       "      <td>11.022727</td>\n",
       "      <td>2</td>\n",
       "      <td>1.93</td>\n",
       "      <td>3.64</td>\n",
       "    </tr>\n",
       "    <tr>\n",
       "      <th>16</th>\n",
       "      <td>5</td>\n",
       "      <td>112.3</td>\n",
       "      <td>12.594393</td>\n",
       "      <td>5</td>\n",
       "      <td>1.44</td>\n",
       "      <td>2.91</td>\n",
       "    </tr>\n",
       "    <tr>\n",
       "      <th>55</th>\n",
       "      <td>1</td>\n",
       "      <td>26.9</td>\n",
       "      <td>13.121951</td>\n",
       "      <td>0</td>\n",
       "      <td>1.67</td>\n",
       "      <td>3.50</td>\n",
       "    </tr>\n",
       "    <tr>\n",
       "      <th>20</th>\n",
       "      <td>1</td>\n",
       "      <td>94.5</td>\n",
       "      <td>11.886792</td>\n",
       "      <td>0</td>\n",
       "      <td>1.45</td>\n",
       "      <td>2.99</td>\n",
       "    </tr>\n",
       "    <tr>\n",
       "      <th>81</th>\n",
       "      <td>1</td>\n",
       "      <td>35.6</td>\n",
       "      <td>11125.000000</td>\n",
       "      <td>0</td>\n",
       "      <td>2.05</td>\n",
       "      <td>3.92</td>\n",
       "    </tr>\n",
       "  </tbody>\n",
       "</table>\n",
       "<p>65 rows × 6 columns</p>\n",
       "</div>"
      ],
      "text/plain": [
       "    Category  km4week       sp4week  CrossTraining  Wall21  MarathonTime\n",
       "22         2     59.4     12.638298              0    1.50          3.05\n",
       "28         3     51.6     13.008403              0    1.50          3.15\n",
       "65         3     60.3     11.708738              0    1.88          3.62\n",
       "13         2     84.4     13.836066              0    1.41          2.88\n",
       "76         1     40.3      8.337931              4    1.94          3.80\n",
       "..       ...      ...           ...            ...     ...           ...\n",
       "66         1     48.5     11.022727              2    1.93          3.64\n",
       "16         5    112.3     12.594393              5    1.44          2.91\n",
       "55         1     26.9     13.121951              0    1.67          3.50\n",
       "20         1     94.5     11.886792              0    1.45          2.99\n",
       "81         1     35.6  11125.000000              0    2.05          3.92\n",
       "\n",
       "[65 rows x 6 columns]"
      ]
     },
     "execution_count": 29,
     "metadata": {},
     "output_type": "execute_result"
    }
   ],
   "source": [
    "train_data"
   ]
  },
  {
   "cell_type": "markdown",
   "id": "748f8f9a",
   "metadata": {},
   "source": [
    "The remaining registers of the dataframe are taken, which are equivalent to 20%."
   ]
  },
  {
   "cell_type": "code",
   "execution_count": 30,
   "id": "357d4f51",
   "metadata": {},
   "outputs": [
    {
     "data": {
      "text/plain": [
       "(16, 6)"
      ]
     },
     "execution_count": 30,
     "metadata": {},
     "output_type": "execute_result"
    }
   ],
   "source": [
    "test_data = df_marathon.drop(train_data.index)\n",
    "test_data.shape"
   ]
  },
  {
   "cell_type": "code",
   "execution_count": 31,
   "id": "39e340d2",
   "metadata": {},
   "outputs": [
    {
     "data": {
      "text/html": [
       "<div>\n",
       "<style scoped>\n",
       "    .dataframe tbody tr th:only-of-type {\n",
       "        vertical-align: middle;\n",
       "    }\n",
       "\n",
       "    .dataframe tbody tr th {\n",
       "        vertical-align: top;\n",
       "    }\n",
       "\n",
       "    .dataframe thead th {\n",
       "        text-align: right;\n",
       "    }\n",
       "</style>\n",
       "<table border=\"1\" class=\"dataframe\">\n",
       "  <thead>\n",
       "    <tr style=\"text-align: right;\">\n",
       "      <th></th>\n",
       "      <th>Category</th>\n",
       "      <th>km4week</th>\n",
       "      <th>sp4week</th>\n",
       "      <th>CrossTraining</th>\n",
       "      <th>Wall21</th>\n",
       "      <th>MarathonTime</th>\n",
       "    </tr>\n",
       "  </thead>\n",
       "  <tbody>\n",
       "    <tr>\n",
       "      <th>9</th>\n",
       "      <td>3</td>\n",
       "      <td>84.2</td>\n",
       "      <td>13.365079</td>\n",
       "      <td>0</td>\n",
       "      <td>1.35</td>\n",
       "      <td>2.86</td>\n",
       "    </tr>\n",
       "    <tr>\n",
       "      <th>12</th>\n",
       "      <td>3</td>\n",
       "      <td>53.5</td>\n",
       "      <td>14.078947</td>\n",
       "      <td>3</td>\n",
       "      <td>1.37</td>\n",
       "      <td>2.88</td>\n",
       "    </tr>\n",
       "    <tr>\n",
       "      <th>21</th>\n",
       "      <td>2</td>\n",
       "      <td>67.3</td>\n",
       "      <td>13.239344</td>\n",
       "      <td>0</td>\n",
       "      <td>1.50</td>\n",
       "      <td>3.04</td>\n",
       "    </tr>\n",
       "    <tr>\n",
       "      <th>26</th>\n",
       "      <td>6</td>\n",
       "      <td>129.6</td>\n",
       "      <td>12.188088</td>\n",
       "      <td>0</td>\n",
       "      <td>1.54</td>\n",
       "      <td>3.12</td>\n",
       "    </tr>\n",
       "    <tr>\n",
       "      <th>38</th>\n",
       "      <td>1</td>\n",
       "      <td>64.7</td>\n",
       "      <td>13.294521</td>\n",
       "      <td>0</td>\n",
       "      <td>1.50</td>\n",
       "      <td>3.24</td>\n",
       "    </tr>\n",
       "    <tr>\n",
       "      <th>39</th>\n",
       "      <td>6</td>\n",
       "      <td>69.2</td>\n",
       "      <td>10.053269</td>\n",
       "      <td>0</td>\n",
       "      <td>1.60</td>\n",
       "      <td>3.25</td>\n",
       "    </tr>\n",
       "    <tr>\n",
       "      <th>41</th>\n",
       "      <td>5</td>\n",
       "      <td>58.8</td>\n",
       "      <td>12.829091</td>\n",
       "      <td>0</td>\n",
       "      <td>1.68</td>\n",
       "      <td>3.28</td>\n",
       "    </tr>\n",
       "    <tr>\n",
       "      <th>46</th>\n",
       "      <td>6</td>\n",
       "      <td>48.6</td>\n",
       "      <td>12.252101</td>\n",
       "      <td>0</td>\n",
       "      <td>1.66</td>\n",
       "      <td>3.33</td>\n",
       "    </tr>\n",
       "    <tr>\n",
       "      <th>48</th>\n",
       "      <td>3</td>\n",
       "      <td>60.1</td>\n",
       "      <td>12.182432</td>\n",
       "      <td>0</td>\n",
       "      <td>1.55</td>\n",
       "      <td>3.36</td>\n",
       "    </tr>\n",
       "    <tr>\n",
       "      <th>49</th>\n",
       "      <td>1</td>\n",
       "      <td>78.2</td>\n",
       "      <td>12.000000</td>\n",
       "      <td>0</td>\n",
       "      <td>1.64</td>\n",
       "      <td>3.39</td>\n",
       "    </tr>\n",
       "    <tr>\n",
       "      <th>62</th>\n",
       "      <td>3</td>\n",
       "      <td>48.8</td>\n",
       "      <td>11.665339</td>\n",
       "      <td>0</td>\n",
       "      <td>1.66</td>\n",
       "      <td>3.56</td>\n",
       "    </tr>\n",
       "    <tr>\n",
       "      <th>68</th>\n",
       "      <td>1</td>\n",
       "      <td>59.1</td>\n",
       "      <td>10.910769</td>\n",
       "      <td>0</td>\n",
       "      <td>1.75</td>\n",
       "      <td>3.65</td>\n",
       "    </tr>\n",
       "    <tr>\n",
       "      <th>69</th>\n",
       "      <td>1</td>\n",
       "      <td>41.6</td>\n",
       "      <td>12.235294</td>\n",
       "      <td>0</td>\n",
       "      <td>1.80</td>\n",
       "      <td>3.67</td>\n",
       "    </tr>\n",
       "    <tr>\n",
       "      <th>71</th>\n",
       "      <td>4</td>\n",
       "      <td>24.2</td>\n",
       "      <td>11.523810</td>\n",
       "      <td>2</td>\n",
       "      <td>1.76</td>\n",
       "      <td>3.69</td>\n",
       "    </tr>\n",
       "    <tr>\n",
       "      <th>75</th>\n",
       "      <td>1</td>\n",
       "      <td>23.9</td>\n",
       "      <td>12.050420</td>\n",
       "      <td>3</td>\n",
       "      <td>1.85</td>\n",
       "      <td>3.78</td>\n",
       "    </tr>\n",
       "    <tr>\n",
       "      <th>83</th>\n",
       "      <td>2</td>\n",
       "      <td>33.6</td>\n",
       "      <td>10.130653</td>\n",
       "      <td>2</td>\n",
       "      <td>1.94</td>\n",
       "      <td>3.93</td>\n",
       "    </tr>\n",
       "  </tbody>\n",
       "</table>\n",
       "</div>"
      ],
      "text/plain": [
       "    Category  km4week    sp4week  CrossTraining  Wall21  MarathonTime\n",
       "9          3     84.2  13.365079              0    1.35          2.86\n",
       "12         3     53.5  14.078947              3    1.37          2.88\n",
       "21         2     67.3  13.239344              0    1.50          3.04\n",
       "26         6    129.6  12.188088              0    1.54          3.12\n",
       "38         1     64.7  13.294521              0    1.50          3.24\n",
       "39         6     69.2  10.053269              0    1.60          3.25\n",
       "41         5     58.8  12.829091              0    1.68          3.28\n",
       "46         6     48.6  12.252101              0    1.66          3.33\n",
       "48         3     60.1  12.182432              0    1.55          3.36\n",
       "49         1     78.2  12.000000              0    1.64          3.39\n",
       "62         3     48.8  11.665339              0    1.66          3.56\n",
       "68         1     59.1  10.910769              0    1.75          3.65\n",
       "69         1     41.6  12.235294              0    1.80          3.67\n",
       "71         4     24.2  11.523810              2    1.76          3.69\n",
       "75         1     23.9  12.050420              3    1.85          3.78\n",
       "83         2     33.6  10.130653              2    1.94          3.93"
      ]
     },
     "execution_count": 31,
     "metadata": {},
     "output_type": "execute_result"
    }
   ],
   "source": [
    "test_data"
   ]
  },
  {
   "cell_type": "markdown",
   "id": "a02351c0",
   "metadata": {},
   "source": [
    "Separate the predictor variable from the predictors in each data subset (x_train, y_train, x_test, y_test).\n",
    "\n",
    "- X Train data: rows = 65 and cols = 5\n",
    "\t- Category\n",
    "    - km4week\n",
    "    - sp4week\n",
    "    - CrossTraining\n",
    "    - Wall21  \t\n",
    "\n",
    "\n",
    "- Y Train data: rows = 65 and col = 1\n",
    "    - MarathonTime\n",
    "        \n",
    "        \n",
    "- X Test data: rows = 16 and cols = 5\n",
    "    - Category\n",
    "    - km4week\n",
    "    - sp4week\n",
    "    - CrossTraining\n",
    "    - Wall21  \t\n",
    "\n",
    "\n",
    "- Y Test data: rows = 16 and col = 1\n",
    "    - MarathonTime"
   ]
  },
  {
   "cell_type": "markdown",
   "id": "3716ef7d",
   "metadata": {},
   "source": [
    "The pop method on a pandas DataFrame is used to remove and return a specific column. In this example, column 'MarathonTime' is removed from the original DataFrame and stored in the variable train_label. After using pop, the DataFrame df no longer has column 'MarathonTime'. The deleted column is displayed separately."
   ]
  },
  {
   "cell_type": "markdown",
   "id": "f0c26d64",
   "metadata": {},
   "source": [
    "Train data:"
   ]
  },
  {
   "cell_type": "code",
   "execution_count": 32,
   "id": "6a5f110e",
   "metadata": {},
   "outputs": [],
   "source": [
    "train_label = train_data.pop('MarathonTime')"
   ]
  },
  {
   "cell_type": "markdown",
   "id": "4dc90556",
   "metadata": {},
   "source": [
    "So train_data is x_train:"
   ]
  },
  {
   "cell_type": "code",
   "execution_count": 33,
   "id": "9632ada8",
   "metadata": {},
   "outputs": [
    {
     "data": {
      "text/html": [
       "<div>\n",
       "<style scoped>\n",
       "    .dataframe tbody tr th:only-of-type {\n",
       "        vertical-align: middle;\n",
       "    }\n",
       "\n",
       "    .dataframe tbody tr th {\n",
       "        vertical-align: top;\n",
       "    }\n",
       "\n",
       "    .dataframe thead th {\n",
       "        text-align: right;\n",
       "    }\n",
       "</style>\n",
       "<table border=\"1\" class=\"dataframe\">\n",
       "  <thead>\n",
       "    <tr style=\"text-align: right;\">\n",
       "      <th></th>\n",
       "      <th>Category</th>\n",
       "      <th>km4week</th>\n",
       "      <th>sp4week</th>\n",
       "      <th>CrossTraining</th>\n",
       "      <th>Wall21</th>\n",
       "    </tr>\n",
       "  </thead>\n",
       "  <tbody>\n",
       "    <tr>\n",
       "      <th>22</th>\n",
       "      <td>2</td>\n",
       "      <td>59.4</td>\n",
       "      <td>12.638298</td>\n",
       "      <td>0</td>\n",
       "      <td>1.50</td>\n",
       "    </tr>\n",
       "    <tr>\n",
       "      <th>28</th>\n",
       "      <td>3</td>\n",
       "      <td>51.6</td>\n",
       "      <td>13.008403</td>\n",
       "      <td>0</td>\n",
       "      <td>1.50</td>\n",
       "    </tr>\n",
       "    <tr>\n",
       "      <th>65</th>\n",
       "      <td>3</td>\n",
       "      <td>60.3</td>\n",
       "      <td>11.708738</td>\n",
       "      <td>0</td>\n",
       "      <td>1.88</td>\n",
       "    </tr>\n",
       "    <tr>\n",
       "      <th>13</th>\n",
       "      <td>2</td>\n",
       "      <td>84.4</td>\n",
       "      <td>13.836066</td>\n",
       "      <td>0</td>\n",
       "      <td>1.41</td>\n",
       "    </tr>\n",
       "    <tr>\n",
       "      <th>76</th>\n",
       "      <td>1</td>\n",
       "      <td>40.3</td>\n",
       "      <td>8.337931</td>\n",
       "      <td>4</td>\n",
       "      <td>1.94</td>\n",
       "    </tr>\n",
       "    <tr>\n",
       "      <th>...</th>\n",
       "      <td>...</td>\n",
       "      <td>...</td>\n",
       "      <td>...</td>\n",
       "      <td>...</td>\n",
       "      <td>...</td>\n",
       "    </tr>\n",
       "    <tr>\n",
       "      <th>66</th>\n",
       "      <td>1</td>\n",
       "      <td>48.5</td>\n",
       "      <td>11.022727</td>\n",
       "      <td>2</td>\n",
       "      <td>1.93</td>\n",
       "    </tr>\n",
       "    <tr>\n",
       "      <th>16</th>\n",
       "      <td>5</td>\n",
       "      <td>112.3</td>\n",
       "      <td>12.594393</td>\n",
       "      <td>5</td>\n",
       "      <td>1.44</td>\n",
       "    </tr>\n",
       "    <tr>\n",
       "      <th>55</th>\n",
       "      <td>1</td>\n",
       "      <td>26.9</td>\n",
       "      <td>13.121951</td>\n",
       "      <td>0</td>\n",
       "      <td>1.67</td>\n",
       "    </tr>\n",
       "    <tr>\n",
       "      <th>20</th>\n",
       "      <td>1</td>\n",
       "      <td>94.5</td>\n",
       "      <td>11.886792</td>\n",
       "      <td>0</td>\n",
       "      <td>1.45</td>\n",
       "    </tr>\n",
       "    <tr>\n",
       "      <th>81</th>\n",
       "      <td>1</td>\n",
       "      <td>35.6</td>\n",
       "      <td>11125.000000</td>\n",
       "      <td>0</td>\n",
       "      <td>2.05</td>\n",
       "    </tr>\n",
       "  </tbody>\n",
       "</table>\n",
       "<p>65 rows × 5 columns</p>\n",
       "</div>"
      ],
      "text/plain": [
       "    Category  km4week       sp4week  CrossTraining  Wall21\n",
       "22         2     59.4     12.638298              0    1.50\n",
       "28         3     51.6     13.008403              0    1.50\n",
       "65         3     60.3     11.708738              0    1.88\n",
       "13         2     84.4     13.836066              0    1.41\n",
       "76         1     40.3      8.337931              4    1.94\n",
       "..       ...      ...           ...            ...     ...\n",
       "66         1     48.5     11.022727              2    1.93\n",
       "16         5    112.3     12.594393              5    1.44\n",
       "55         1     26.9     13.121951              0    1.67\n",
       "20         1     94.5     11.886792              0    1.45\n",
       "81         1     35.6  11125.000000              0    2.05\n",
       "\n",
       "[65 rows x 5 columns]"
      ]
     },
     "execution_count": 33,
     "metadata": {},
     "output_type": "execute_result"
    }
   ],
   "source": [
    "train_data"
   ]
  },
  {
   "cell_type": "markdown",
   "id": "90802bde",
   "metadata": {},
   "source": [
    "And train_label is y_train:"
   ]
  },
  {
   "cell_type": "code",
   "execution_count": 34,
   "id": "0f10e9dd",
   "metadata": {},
   "outputs": [
    {
     "data": {
      "text/plain": [
       "22    3.05\n",
       "28    3.15\n",
       "65    3.62\n",
       "13    2.88\n",
       "76    3.80\n",
       "      ... \n",
       "66    3.64\n",
       "16    2.91\n",
       "55    3.50\n",
       "20    2.99\n",
       "81    3.92\n",
       "Name: MarathonTime, Length: 65, dtype: float64"
      ]
     },
     "execution_count": 34,
     "metadata": {},
     "output_type": "execute_result"
    }
   ],
   "source": [
    "train_label"
   ]
  },
  {
   "cell_type": "markdown",
   "id": "e1918d95",
   "metadata": {},
   "source": [
    "The pop method on a pandas DataFrame is used to remove and return a specific column. In this example, column 'MarathonTime' is removed from the original DataFrame and stored in the variable test_label. After using pop, the DataFrame df no longer has column 'MarathonTime'. The deleted column is displayed separately."
   ]
  },
  {
   "cell_type": "markdown",
   "id": "1be3982c",
   "metadata": {},
   "source": [
    "Test data:"
   ]
  },
  {
   "cell_type": "code",
   "execution_count": 35,
   "id": "b06f4149",
   "metadata": {},
   "outputs": [],
   "source": [
    "test_label = test_data.pop('MarathonTime')"
   ]
  },
  {
   "cell_type": "markdown",
   "id": "714279bd",
   "metadata": {},
   "source": [
    "So test_data is y_test:"
   ]
  },
  {
   "cell_type": "code",
   "execution_count": 36,
   "id": "06fb759e",
   "metadata": {
    "scrolled": false
   },
   "outputs": [
    {
     "data": {
      "text/html": [
       "<div>\n",
       "<style scoped>\n",
       "    .dataframe tbody tr th:only-of-type {\n",
       "        vertical-align: middle;\n",
       "    }\n",
       "\n",
       "    .dataframe tbody tr th {\n",
       "        vertical-align: top;\n",
       "    }\n",
       "\n",
       "    .dataframe thead th {\n",
       "        text-align: right;\n",
       "    }\n",
       "</style>\n",
       "<table border=\"1\" class=\"dataframe\">\n",
       "  <thead>\n",
       "    <tr style=\"text-align: right;\">\n",
       "      <th></th>\n",
       "      <th>Category</th>\n",
       "      <th>km4week</th>\n",
       "      <th>sp4week</th>\n",
       "      <th>CrossTraining</th>\n",
       "      <th>Wall21</th>\n",
       "    </tr>\n",
       "  </thead>\n",
       "  <tbody>\n",
       "    <tr>\n",
       "      <th>9</th>\n",
       "      <td>3</td>\n",
       "      <td>84.2</td>\n",
       "      <td>13.365079</td>\n",
       "      <td>0</td>\n",
       "      <td>1.35</td>\n",
       "    </tr>\n",
       "    <tr>\n",
       "      <th>12</th>\n",
       "      <td>3</td>\n",
       "      <td>53.5</td>\n",
       "      <td>14.078947</td>\n",
       "      <td>3</td>\n",
       "      <td>1.37</td>\n",
       "    </tr>\n",
       "    <tr>\n",
       "      <th>21</th>\n",
       "      <td>2</td>\n",
       "      <td>67.3</td>\n",
       "      <td>13.239344</td>\n",
       "      <td>0</td>\n",
       "      <td>1.50</td>\n",
       "    </tr>\n",
       "    <tr>\n",
       "      <th>26</th>\n",
       "      <td>6</td>\n",
       "      <td>129.6</td>\n",
       "      <td>12.188088</td>\n",
       "      <td>0</td>\n",
       "      <td>1.54</td>\n",
       "    </tr>\n",
       "    <tr>\n",
       "      <th>38</th>\n",
       "      <td>1</td>\n",
       "      <td>64.7</td>\n",
       "      <td>13.294521</td>\n",
       "      <td>0</td>\n",
       "      <td>1.50</td>\n",
       "    </tr>\n",
       "    <tr>\n",
       "      <th>39</th>\n",
       "      <td>6</td>\n",
       "      <td>69.2</td>\n",
       "      <td>10.053269</td>\n",
       "      <td>0</td>\n",
       "      <td>1.60</td>\n",
       "    </tr>\n",
       "    <tr>\n",
       "      <th>41</th>\n",
       "      <td>5</td>\n",
       "      <td>58.8</td>\n",
       "      <td>12.829091</td>\n",
       "      <td>0</td>\n",
       "      <td>1.68</td>\n",
       "    </tr>\n",
       "    <tr>\n",
       "      <th>46</th>\n",
       "      <td>6</td>\n",
       "      <td>48.6</td>\n",
       "      <td>12.252101</td>\n",
       "      <td>0</td>\n",
       "      <td>1.66</td>\n",
       "    </tr>\n",
       "    <tr>\n",
       "      <th>48</th>\n",
       "      <td>3</td>\n",
       "      <td>60.1</td>\n",
       "      <td>12.182432</td>\n",
       "      <td>0</td>\n",
       "      <td>1.55</td>\n",
       "    </tr>\n",
       "    <tr>\n",
       "      <th>49</th>\n",
       "      <td>1</td>\n",
       "      <td>78.2</td>\n",
       "      <td>12.000000</td>\n",
       "      <td>0</td>\n",
       "      <td>1.64</td>\n",
       "    </tr>\n",
       "    <tr>\n",
       "      <th>62</th>\n",
       "      <td>3</td>\n",
       "      <td>48.8</td>\n",
       "      <td>11.665339</td>\n",
       "      <td>0</td>\n",
       "      <td>1.66</td>\n",
       "    </tr>\n",
       "    <tr>\n",
       "      <th>68</th>\n",
       "      <td>1</td>\n",
       "      <td>59.1</td>\n",
       "      <td>10.910769</td>\n",
       "      <td>0</td>\n",
       "      <td>1.75</td>\n",
       "    </tr>\n",
       "    <tr>\n",
       "      <th>69</th>\n",
       "      <td>1</td>\n",
       "      <td>41.6</td>\n",
       "      <td>12.235294</td>\n",
       "      <td>0</td>\n",
       "      <td>1.80</td>\n",
       "    </tr>\n",
       "    <tr>\n",
       "      <th>71</th>\n",
       "      <td>4</td>\n",
       "      <td>24.2</td>\n",
       "      <td>11.523810</td>\n",
       "      <td>2</td>\n",
       "      <td>1.76</td>\n",
       "    </tr>\n",
       "    <tr>\n",
       "      <th>75</th>\n",
       "      <td>1</td>\n",
       "      <td>23.9</td>\n",
       "      <td>12.050420</td>\n",
       "      <td>3</td>\n",
       "      <td>1.85</td>\n",
       "    </tr>\n",
       "    <tr>\n",
       "      <th>83</th>\n",
       "      <td>2</td>\n",
       "      <td>33.6</td>\n",
       "      <td>10.130653</td>\n",
       "      <td>2</td>\n",
       "      <td>1.94</td>\n",
       "    </tr>\n",
       "  </tbody>\n",
       "</table>\n",
       "</div>"
      ],
      "text/plain": [
       "    Category  km4week    sp4week  CrossTraining  Wall21\n",
       "9          3     84.2  13.365079              0    1.35\n",
       "12         3     53.5  14.078947              3    1.37\n",
       "21         2     67.3  13.239344              0    1.50\n",
       "26         6    129.6  12.188088              0    1.54\n",
       "38         1     64.7  13.294521              0    1.50\n",
       "39         6     69.2  10.053269              0    1.60\n",
       "41         5     58.8  12.829091              0    1.68\n",
       "46         6     48.6  12.252101              0    1.66\n",
       "48         3     60.1  12.182432              0    1.55\n",
       "49         1     78.2  12.000000              0    1.64\n",
       "62         3     48.8  11.665339              0    1.66\n",
       "68         1     59.1  10.910769              0    1.75\n",
       "69         1     41.6  12.235294              0    1.80\n",
       "71         4     24.2  11.523810              2    1.76\n",
       "75         1     23.9  12.050420              3    1.85\n",
       "83         2     33.6  10.130653              2    1.94"
      ]
     },
     "execution_count": 36,
     "metadata": {},
     "output_type": "execute_result"
    }
   ],
   "source": [
    "test_data"
   ]
  },
  {
   "cell_type": "markdown",
   "id": "d388c9c5",
   "metadata": {},
   "source": [
    "And test_label is y_test:"
   ]
  },
  {
   "cell_type": "code",
   "execution_count": 37,
   "id": "c79b0e81",
   "metadata": {},
   "outputs": [
    {
     "data": {
      "text/plain": [
       "9     2.86\n",
       "12    2.88\n",
       "21    3.04\n",
       "26    3.12\n",
       "38    3.24\n",
       "39    3.25\n",
       "41    3.28\n",
       "46    3.33\n",
       "48    3.36\n",
       "49    3.39\n",
       "62    3.56\n",
       "68    3.65\n",
       "69    3.67\n",
       "71    3.69\n",
       "75    3.78\n",
       "83    3.93\n",
       "Name: MarathonTime, dtype: float64"
      ]
     },
     "execution_count": 37,
     "metadata": {},
     "output_type": "execute_result"
    }
   ],
   "source": [
    "test_label"
   ]
  },
  {
   "cell_type": "markdown",
   "id": "525f89c6",
   "metadata": {},
   "source": [
    "Train the Linear Model with the data."
   ]
  },
  {
   "cell_type": "code",
   "execution_count": 38,
   "id": "9092a84d",
   "metadata": {},
   "outputs": [
    {
     "data": {
      "text/html": [
       "<style>#sk-container-id-1 {color: black;background-color: white;}#sk-container-id-1 pre{padding: 0;}#sk-container-id-1 div.sk-toggleable {background-color: white;}#sk-container-id-1 label.sk-toggleable__label {cursor: pointer;display: block;width: 100%;margin-bottom: 0;padding: 0.3em;box-sizing: border-box;text-align: center;}#sk-container-id-1 label.sk-toggleable__label-arrow:before {content: \"▸\";float: left;margin-right: 0.25em;color: #696969;}#sk-container-id-1 label.sk-toggleable__label-arrow:hover:before {color: black;}#sk-container-id-1 div.sk-estimator:hover label.sk-toggleable__label-arrow:before {color: black;}#sk-container-id-1 div.sk-toggleable__content {max-height: 0;max-width: 0;overflow: hidden;text-align: left;background-color: #f0f8ff;}#sk-container-id-1 div.sk-toggleable__content pre {margin: 0.2em;color: black;border-radius: 0.25em;background-color: #f0f8ff;}#sk-container-id-1 input.sk-toggleable__control:checked~div.sk-toggleable__content {max-height: 200px;max-width: 100%;overflow: auto;}#sk-container-id-1 input.sk-toggleable__control:checked~label.sk-toggleable__label-arrow:before {content: \"▾\";}#sk-container-id-1 div.sk-estimator input.sk-toggleable__control:checked~label.sk-toggleable__label {background-color: #d4ebff;}#sk-container-id-1 div.sk-label input.sk-toggleable__control:checked~label.sk-toggleable__label {background-color: #d4ebff;}#sk-container-id-1 input.sk-hidden--visually {border: 0;clip: rect(1px 1px 1px 1px);clip: rect(1px, 1px, 1px, 1px);height: 1px;margin: -1px;overflow: hidden;padding: 0;position: absolute;width: 1px;}#sk-container-id-1 div.sk-estimator {font-family: monospace;background-color: #f0f8ff;border: 1px dotted black;border-radius: 0.25em;box-sizing: border-box;margin-bottom: 0.5em;}#sk-container-id-1 div.sk-estimator:hover {background-color: #d4ebff;}#sk-container-id-1 div.sk-parallel-item::after {content: \"\";width: 100%;border-bottom: 1px solid gray;flex-grow: 1;}#sk-container-id-1 div.sk-label:hover label.sk-toggleable__label {background-color: #d4ebff;}#sk-container-id-1 div.sk-serial::before {content: \"\";position: absolute;border-left: 1px solid gray;box-sizing: border-box;top: 0;bottom: 0;left: 50%;z-index: 0;}#sk-container-id-1 div.sk-serial {display: flex;flex-direction: column;align-items: center;background-color: white;padding-right: 0.2em;padding-left: 0.2em;position: relative;}#sk-container-id-1 div.sk-item {position: relative;z-index: 1;}#sk-container-id-1 div.sk-parallel {display: flex;align-items: stretch;justify-content: center;background-color: white;position: relative;}#sk-container-id-1 div.sk-item::before, #sk-container-id-1 div.sk-parallel-item::before {content: \"\";position: absolute;border-left: 1px solid gray;box-sizing: border-box;top: 0;bottom: 0;left: 50%;z-index: -1;}#sk-container-id-1 div.sk-parallel-item {display: flex;flex-direction: column;z-index: 1;position: relative;background-color: white;}#sk-container-id-1 div.sk-parallel-item:first-child::after {align-self: flex-end;width: 50%;}#sk-container-id-1 div.sk-parallel-item:last-child::after {align-self: flex-start;width: 50%;}#sk-container-id-1 div.sk-parallel-item:only-child::after {width: 0;}#sk-container-id-1 div.sk-dashed-wrapped {border: 1px dashed gray;margin: 0 0.4em 0.5em 0.4em;box-sizing: border-box;padding-bottom: 0.4em;background-color: white;}#sk-container-id-1 div.sk-label label {font-family: monospace;font-weight: bold;display: inline-block;line-height: 1.2em;}#sk-container-id-1 div.sk-label-container {text-align: center;}#sk-container-id-1 div.sk-container {/* jupyter's `normalize.less` sets `[hidden] { display: none; }` but bootstrap.min.css set `[hidden] { display: none !important; }` so we also need the `!important` here to be able to override the default hidden behavior on the sphinx rendered scikit-learn.org. See: https://github.com/scikit-learn/scikit-learn/issues/21755 */display: inline-block !important;position: relative;}#sk-container-id-1 div.sk-text-repr-fallback {display: none;}</style><div id=\"sk-container-id-1\" class=\"sk-top-container\"><div class=\"sk-text-repr-fallback\"><pre>LinearRegression()</pre><b>In a Jupyter environment, please rerun this cell to show the HTML representation or trust the notebook. <br />On GitHub, the HTML representation is unable to render, please try loading this page with nbviewer.org.</b></div><div class=\"sk-container\" hidden><div class=\"sk-item\"><div class=\"sk-estimator sk-toggleable\"><input class=\"sk-toggleable__control sk-hidden--visually\" id=\"sk-estimator-id-1\" type=\"checkbox\" checked><label for=\"sk-estimator-id-1\" class=\"sk-toggleable__label sk-toggleable__label-arrow\">LinearRegression</label><div class=\"sk-toggleable__content\"><pre>LinearRegression()</pre></div></div></div></div></div>"
      ],
      "text/plain": [
       "LinearRegression()"
      ]
     },
     "execution_count": 38,
     "metadata": {},
     "output_type": "execute_result"
    }
   ],
   "source": [
    "model = LinearRegression()\n",
    "model.fit(train_data, train_label)"
   ]
  },
  {
   "cell_type": "markdown",
   "id": "4d219b27",
   "metadata": {},
   "source": [
    "### 3. Make predicitions"
   ]
  },
  {
   "cell_type": "code",
   "execution_count": 39,
   "id": "e9313aff",
   "metadata": {},
   "outputs": [
    {
     "data": {
      "text/plain": [
       "array([2.79803954, 2.84205447, 3.07312728, 3.04906931, 3.07910982,\n",
       "       3.2272967 , 3.37699633, 3.35411754, 3.16335172, 3.29564113,\n",
       "       3.36174913, 3.5041103 , 3.61022978, 3.53862462, 3.68760762,\n",
       "       3.83254349])"
      ]
     },
     "execution_count": 39,
     "metadata": {},
     "output_type": "execute_result"
    }
   ],
   "source": [
    "predictions = model.predict(test_data)\n",
    "predictions"
   ]
  },
  {
   "attachments": {
    "predictions.png": {
     "image/png": "[encoded data removed]"
    }
   },
   "cell_type": "markdown",
   "id": "782e7490",
   "metadata": {},
   "source": [
    "![predictions.png](attachment:predictions.png)"
   ]
  },
  {
   "cell_type": "markdown",
   "id": "bc6f12da",
   "metadata": {},
   "source": [
    "Prediction data is compared to the prediction variable label of the validation subset."
   ]
  },
  {
   "cell_type": "code",
   "execution_count": 40,
   "id": "f29818e1",
   "metadata": {},
   "outputs": [
    {
     "name": "stdout",
     "output_type": "stream",
     "text": [
      "Porcentual error: 11.193777\n"
     ]
    }
   ],
   "source": [
    "error = np.sqrt(mean_squared_error(test_label, predictions))\n",
    "print('Porcentual error: %f' % (error * 100))"
   ]
  },
  {
   "cell_type": "markdown",
   "id": "a75727ba",
   "metadata": {},
   "source": [
    "A new register is created and the result is analyzed."
   ]
  },
  {
   "cell_type": "code",
   "execution_count": 44,
   "id": "5ba6aada",
   "metadata": {},
   "outputs": [],
   "source": [
    "new_runner = pd.DataFrame(\n",
    "    np.array([[1, 400, 20, 0, 1.4]]), \n",
    "    columns = ['Category', 'km4week', 'sp4week', 'CrossTraining', 'Wall21']\n",
    ")"
   ]
  },
  {
   "cell_type": "code",
   "execution_count": 45,
   "id": "9d9e7a79",
   "metadata": {},
   "outputs": [
    {
     "data": {
      "text/html": [
       "<div>\n",
       "<style scoped>\n",
       "    .dataframe tbody tr th:only-of-type {\n",
       "        vertical-align: middle;\n",
       "    }\n",
       "\n",
       "    .dataframe tbody tr th {\n",
       "        vertical-align: top;\n",
       "    }\n",
       "\n",
       "    .dataframe thead th {\n",
       "        text-align: right;\n",
       "    }\n",
       "</style>\n",
       "<table border=\"1\" class=\"dataframe\">\n",
       "  <thead>\n",
       "    <tr style=\"text-align: right;\">\n",
       "      <th></th>\n",
       "      <th>Category</th>\n",
       "      <th>km4week</th>\n",
       "      <th>sp4week</th>\n",
       "      <th>CrossTraining</th>\n",
       "      <th>Wall21</th>\n",
       "    </tr>\n",
       "  </thead>\n",
       "  <tbody>\n",
       "    <tr>\n",
       "      <th>0</th>\n",
       "      <td>1.0</td>\n",
       "      <td>400.0</td>\n",
       "      <td>20.0</td>\n",
       "      <td>0.0</td>\n",
       "      <td>1.4</td>\n",
       "    </tr>\n",
       "  </tbody>\n",
       "</table>\n",
       "</div>"
      ],
      "text/plain": [
       "   Category  km4week  sp4week  CrossTraining  Wall21\n",
       "0       1.0    400.0     20.0            0.0     1.4"
      ]
     },
     "execution_count": 45,
     "metadata": {},
     "output_type": "execute_result"
    }
   ],
   "source": [
    "new_runner"
   ]
  },
  {
   "cell_type": "markdown",
   "id": "3cd6a87e",
   "metadata": {},
   "source": [
    "Make the prediction with the new runner."
   ]
  },
  {
   "cell_type": "code",
   "execution_count": 46,
   "id": "6a71854f",
   "metadata": {},
   "outputs": [
    {
     "data": {
      "text/plain": [
       "array([2.47924016])"
      ]
     },
     "execution_count": 46,
     "metadata": {},
     "output_type": "execute_result"
    }
   ],
   "source": [
    "model.predict(new_runner)"
   ]
  },
  {
   "cell_type": "markdown",
   "id": "81c275d8",
   "metadata": {},
   "source": [
    "For the new corridor with the proposed predictive characteristics, the model predicted that the corridor time would be 2.47924016."
   ]
  }
 ],
 "metadata": {
  "kernelspec": {
   "display_name": "Python 3 (ipykernel)",
   "language": "python",
   "name": "python3"
  },
  "language_info": {
   "codemirror_mode": {
    "name": "ipython",
    "version": 3
   },
   "file_extension": ".py",
   "mimetype": "text/x-python",
   "name": "python",
   "nbconvert_exporter": "python",
   "pygments_lexer": "ipython3",
   "version": "3.9.12"
  }
 },
 "nbformat": 4,
 "nbformat_minor": 5
}
